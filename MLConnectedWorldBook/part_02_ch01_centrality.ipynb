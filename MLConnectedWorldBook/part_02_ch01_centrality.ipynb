{
 "cells": [
  {
   "metadata": {},
   "cell_type": "markdown",
   "source": [
    "# Centrality\n",
    "\n",
    "Centrality is a measure of the importance of a node in a network. There are many ways to define centrality, but the most common is degree centrality. Degree centrality is the number of edges that are incident to a node. In other words, it is the number of connections that a node has. The more connections a node has, the more central it is. In this section, we will explore the degree centrality of the nodes in the network."
   ],
   "id": "b2c00c3292a22203"
  },
  {
   "metadata": {
    "ExecuteTime": {
     "end_time": "2024-05-08T16:21:57.741604Z",
     "start_time": "2024-05-08T16:21:57.735863Z"
    }
   },
   "cell_type": "code",
   "source": "a = 1",
   "id": "4319fa546e241dda",
   "outputs": [],
   "execution_count": 1
  },
  {
   "metadata": {},
   "cell_type": "code",
   "outputs": [],
   "execution_count": null,
   "source": "",
   "id": "13de4119f37026bf"
  }
 ],
 "metadata": {
  "kernelspec": {
   "display_name": "Python 3",
   "language": "python",
   "name": "python3"
  },
  "language_info": {
   "codemirror_mode": {
    "name": "ipython",
    "version": 2
   },
   "file_extension": ".py",
   "mimetype": "text/x-python",
   "name": "python",
   "nbconvert_exporter": "python",
   "pygments_lexer": "ipython2",
   "version": "2.7.6"
  }
 },
 "nbformat": 4,
 "nbformat_minor": 5
}
