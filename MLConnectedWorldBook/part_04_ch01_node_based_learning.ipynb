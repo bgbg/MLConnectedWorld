{
 "cells": [
  {
   "cell_type": "code",
   "id": "initial_id",
   "metadata": {
    "collapsed": true,
    "ExecuteTime": {
     "end_time": "2024-05-26T12:22:01.584379Z",
     "start_time": "2024-05-26T12:21:59.950892Z"
    }
   },
   "source": [
    "import os\n",
    "import sys\n",
    "\n",
    "sys.path.append(os.getcwd())\n",
    "from MLConnectedWorldBook.src import tmdb_graph\n",
    "import pandas as pd\n",
    "import matplotlib.pyplot as plt\n",
    "from tqdm.auto import tqdm\n",
    "import networkx as nx\n",
    "from importlib import reload\n",
    "import json\n",
    "import numpy as np\n",
    "from scipy.stats import ecdf\n",
    "import matplotlib\n",
    "import graph_utils\n",
    "from catboost import CatBoostClassifier\n",
    "from sklearn.model_selection import train_test_split\n",
    "from sklearn.metrics import classification_report, matthews_corrcoef\n",
    "\n",
    "reload(tmdb_graph)\n",
    "%matplotlib inline"
   ],
   "outputs": [],
   "execution_count": 1
  },
  {
   "metadata": {
    "ExecuteTime": {
     "end_time": "2024-05-26T12:22:01.593962Z",
     "start_time": "2024-05-26T12:22:01.590853Z"
    }
   },
   "cell_type": "code",
   "source": [
    "dir_data = os.path.abspath(os.path.join(os.getcwd(),  'data/cit-HepTh'))\n",
    "assert os.path.exists(dir_data)"
   ],
   "id": "2719a38064fefc79",
   "outputs": [],
   "execution_count": 2
  },
  {
   "metadata": {
    "ExecuteTime": {
     "end_time": "2024-05-26T12:22:01.598845Z",
     "start_time": "2024-05-26T12:22:01.595322Z"
    }
   },
   "cell_type": "code",
   "source": "os.listdir(dir_data)",
   "id": "52edeb11ba1f3e77",
   "outputs": [
    {
     "data": {
      "text/plain": [
       "['cit-HepTh-abstracts.tar.gz',\n",
       " 'dates.txt',\n",
       " 'ca-HepPh.txt.gz',\n",
       " 'abstracts',\n",
       " 'cit-HepTh.txt.gz',\n",
       " 'text.txt',\n",
       " 'cit-HepTh-dates.txt.gz']"
      ]
     },
     "execution_count": 3,
     "metadata": {},
     "output_type": "execute_result"
    }
   ],
   "execution_count": 3
  },
  {
   "metadata": {
    "ExecuteTime": {
     "end_time": "2024-05-26T12:22:01.603553Z",
     "start_time": "2024-05-26T12:22:01.600353Z"
    }
   },
   "cell_type": "code",
   "source": [
    "fn_citations = os.path.join(dir_data, 'cit-HepTh.txt.gz')\n",
    "fn_coauthors = \"/Users/boris/Documents/teaching/ML on graphs/MLConnectedWorld/MLConnectedWorldBook/data/cit-HepTh/ca-HepPh.txt.gz\""
   ],
   "id": "aca48cc17523b413",
   "outputs": [],
   "execution_count": 4
  },
  {
   "metadata": {
    "ExecuteTime": {
     "end_time": "2024-05-26T12:22:01.887141Z",
     "start_time": "2024-05-26T12:22:01.604805Z"
    }
   },
   "cell_type": "code",
   "source": [
    "import gzip\n",
    "with gzip.open(fn_coauthors, 'rt') as f:\n",
    "    lines = f.readlines()\n",
    "lines = [l.strip().split() for l in lines if l[0] != '#']\n",
    "df_coauthors = pd.DataFrame(lines, columns=['source', 'target'])\n",
    "np.random.seed(42)\n",
    "df_coauthors = df_coauthors.sample(frac=0.05).copy()"
   ],
   "id": "efe8daa3412448bf",
   "outputs": [],
   "execution_count": 5
  },
  {
   "metadata": {
    "ExecuteTime": {
     "end_time": "2024-05-26T12:22:01.893055Z",
     "start_time": "2024-05-26T12:22:01.887984Z"
    }
   },
   "cell_type": "code",
   "source": "df_coauthors",
   "id": "fba42fc989bcc612",
   "outputs": [
    {
     "data": {
      "text/plain": [
       "       source target\n",
       "121644  24927   3362\n",
       "230911    510  88051\n",
       "3063    12665  36228\n",
       "3442    39113  84543\n",
       "67755   65894  51214\n",
       "...       ...    ...\n",
       "3287    39113  37722\n",
       "115575  12011   3919\n",
       "128631  55482  34644\n",
       "202572  14715  22311\n",
       "24397    6090  62998\n",
       "\n",
       "[11850 rows x 2 columns]"
      ],
      "text/html": [
       "<div>\n",
       "<style scoped>\n",
       "    .dataframe tbody tr th:only-of-type {\n",
       "        vertical-align: middle;\n",
       "    }\n",
       "\n",
       "    .dataframe tbody tr th {\n",
       "        vertical-align: top;\n",
       "    }\n",
       "\n",
       "    .dataframe thead th {\n",
       "        text-align: right;\n",
       "    }\n",
       "</style>\n",
       "<table border=\"1\" class=\"dataframe\">\n",
       "  <thead>\n",
       "    <tr style=\"text-align: right;\">\n",
       "      <th></th>\n",
       "      <th>source</th>\n",
       "      <th>target</th>\n",
       "    </tr>\n",
       "  </thead>\n",
       "  <tbody>\n",
       "    <tr>\n",
       "      <th>121644</th>\n",
       "      <td>24927</td>\n",
       "      <td>3362</td>\n",
       "    </tr>\n",
       "    <tr>\n",
       "      <th>230911</th>\n",
       "      <td>510</td>\n",
       "      <td>88051</td>\n",
       "    </tr>\n",
       "    <tr>\n",
       "      <th>3063</th>\n",
       "      <td>12665</td>\n",
       "      <td>36228</td>\n",
       "    </tr>\n",
       "    <tr>\n",
       "      <th>3442</th>\n",
       "      <td>39113</td>\n",
       "      <td>84543</td>\n",
       "    </tr>\n",
       "    <tr>\n",
       "      <th>67755</th>\n",
       "      <td>65894</td>\n",
       "      <td>51214</td>\n",
       "    </tr>\n",
       "    <tr>\n",
       "      <th>...</th>\n",
       "      <td>...</td>\n",
       "      <td>...</td>\n",
       "    </tr>\n",
       "    <tr>\n",
       "      <th>3287</th>\n",
       "      <td>39113</td>\n",
       "      <td>37722</td>\n",
       "    </tr>\n",
       "    <tr>\n",
       "      <th>115575</th>\n",
       "      <td>12011</td>\n",
       "      <td>3919</td>\n",
       "    </tr>\n",
       "    <tr>\n",
       "      <th>128631</th>\n",
       "      <td>55482</td>\n",
       "      <td>34644</td>\n",
       "    </tr>\n",
       "    <tr>\n",
       "      <th>202572</th>\n",
       "      <td>14715</td>\n",
       "      <td>22311</td>\n",
       "    </tr>\n",
       "    <tr>\n",
       "      <th>24397</th>\n",
       "      <td>6090</td>\n",
       "      <td>62998</td>\n",
       "    </tr>\n",
       "  </tbody>\n",
       "</table>\n",
       "<p>11850 rows × 2 columns</p>\n",
       "</div>"
      ]
     },
     "execution_count": 6,
     "metadata": {},
     "output_type": "execute_result"
    }
   ],
   "execution_count": 6
  },
  {
   "metadata": {
    "ExecuteTime": {
     "end_time": "2024-05-26T12:22:01.963813Z",
     "start_time": "2024-05-26T12:22:01.893804Z"
    }
   },
   "cell_type": "code",
   "source": [
    "g = nx.from_pandas_edgelist(df_coauthors, 'source', 'target')\n",
    "print(g)\n",
    "g = graph_utils.get_connected_component_subgraphs(g)[0]\n",
    "print(g)"
   ],
   "id": "69dc3d7e95bc08b4",
   "outputs": [
    {
     "name": "stdout",
     "output_type": "stream",
     "text": [
      "Graph with 5842 nodes and 11553 edges\n",
      "Graph named 'Component 1 of ' with 3849 nodes and 10166 edges\n"
     ]
    }
   ],
   "execution_count": 7
  },
  {
   "metadata": {
    "ExecuteTime": {
     "end_time": "2024-05-26T12:22:02.050746Z",
     "start_time": "2024-05-26T12:22:01.964868Z"
    }
   },
   "cell_type": "code",
   "source": [
    "# log-log plot of the degree distribution\n",
    "fig, ax = plt.subplots()\n",
    "log_degrees = np.log(np.array([d for n, d in g.degree]))\n",
    "log_counts = np.log(pd.Series(log_degrees).value_counts().sort_index())\n",
    "log_freq = log_counts / log_counts.sum()\n",
    "ax.plot(log_counts.index, log_freq, '.')"
   ],
   "id": "cdb889f1a9a4d257",
   "outputs": [
    {
     "data": {
      "text/plain": [
       "[<matplotlib.lines.Line2D at 0x16c368590>]"
      ]
     },
     "execution_count": 8,
     "metadata": {},
     "output_type": "execute_result"
    },
    {
     "data": {
      "text/plain": [
       "<Figure size 640x480 with 1 Axes>"
      ],
      "image/png": "[encoded data removed]"
     },
     "metadata": {},
     "output_type": "display_data"
    }
   ],
   "execution_count": 8
  },
  {
   "metadata": {
    "ExecuteTime": {
     "end_time": "2024-05-26T12:22:02.252975Z",
     "start_time": "2024-05-26T12:22:02.061153Z"
    }
   },
   "cell_type": "code",
   "source": [
    "# now, we will introduce some abiguity in the graph\n",
    "np.random.seed(42)\n",
    "all_author_ids = set(df_coauthors['source']).union(set(df_coauthors['target']))\n",
    "frac_noise = 0.005\n",
    "n_noise = int(frac_noise * len(all_author_ids))\n",
    "\n",
    "scrambled = dict()\n",
    "\n",
    "for i in range(n_noise):\n",
    "    n_to_scramble = np.random.randint(2, 4)\n",
    "    scrambled_name = f'scrambled_{i:02d}'\n",
    "    nodes_to_scramble = []\n",
    "    while len(nodes_to_scramble) < n_to_scramble:\n",
    "        node = np.random.choice(list(all_author_ids))\n",
    "        if node not in scrambled:\n",
    "            scrambled[node] = scrambled_name\n",
    "            nodes_to_scramble.append(node)\n",
    "            \n",
    "    "
   ],
   "id": "2fd5c04b8b230c0b",
   "outputs": [],
   "execution_count": 9
  },
  {
   "metadata": {
    "ExecuteTime": {
     "end_time": "2024-05-26T12:22:02.293437Z",
     "start_time": "2024-05-26T12:22:02.256001Z"
    }
   },
   "cell_type": "code",
   "source": [
    "df_scrambled = df_coauthors.copy()\n",
    "df_scrambled['source'] = df_scrambled['source'].apply(lambda x: scrambled.get(x, x))\n",
    "df_scrambled['target'] = df_scrambled['target'].apply(lambda x: scrambled.get(x, x))\n",
    "g_scrambled = nx.from_pandas_edgelist(df_scrambled, 'source', 'target')\n",
    "# add `scrambled` attribute to the nodes\n",
    "for node in g_scrambled.nodes:\n",
    "    g_scrambled.nodes[node]['scrambled'] = node.startswith('scrambled')"
   ],
   "id": "f77e1954291d67d7",
   "outputs": [],
   "execution_count": 10
  },
  {
   "metadata": {
    "ExecuteTime": {
     "end_time": "2024-05-26T12:22:02.396683Z",
     "start_time": "2024-05-26T12:22:02.302011Z"
    }
   },
   "cell_type": "code",
   "source": "nx.write_graphml(g_scrambled, '/Users/boris/temp/graph_scrambled.graphml')",
   "id": "bcc82cbfaf15ad93",
   "outputs": [],
   "execution_count": 11
  },
  {
   "metadata": {},
   "cell_type": "markdown",
   "source": [
    "To build a classifier that can distinguish between the original and the scrambled nodes, we will use the following features:\n",
    "- the degree of the node\n",
    "- the clustering coefficient of the node\n",
    "- the number of triangles the node is part of\n",
    "- the number of triangles the node is part of that are not part of any other triangle\n",
    "- node centrality measures: betweenness, closeness, eigenvector\n"
   ],
   "id": "ed166d3631c74c5"
  },
  {
   "metadata": {
    "ExecuteTime": {
     "end_time": "2024-05-26T12:22:02.404587Z",
     "start_time": "2024-05-26T12:22:02.399386Z"
    }
   },
   "cell_type": "code",
   "source": [
    "\n",
    "def compute_node_features(g)->pd.DataFrame:\n",
    "    # approx 2 minutes of computation time on the full dataset\n",
    "    degrees = dict(g.degree)\n",
    "    clustering = nx.clustering(g)\n",
    "    triangles = nx.triangles(g)\n",
    "    triangles_no_others = dict()\n",
    "    n_depth_2 = dict()\n",
    "    n_depth_4 = dict()\n",
    "    for node in tqdm(g.nodes, total=len(g.nodes), leave=False):\n",
    "        triangles_no_others[node] = sum([1 for n in g.neighbors(node) if n in triangles and triangles[n] == 1])\n",
    "        n_depth_2[node] = len(set(nx.single_source_shortest_path_length(g, node, cutoff=2)))\n",
    "        n_depth_4[node] = len(set(nx.single_source_shortest_path_length(g, node, cutoff=4)))\n",
    "    ret = pd.DataFrame({'degree': degrees, 'clustering': clustering, 'triangles': triangles, 'triangles_no_others': triangles_no_others, 'n_depth_2': n_depth_2, 'n_depth_4': n_depth_4})\n",
    "    return ret\n",
    "\n",
    "# df_node_features = compute_node_features(g_scrambled)"
   ],
   "id": "9d19da43fd460d4b",
   "outputs": [],
   "execution_count": 12
  },
  {
   "metadata": {
    "ExecuteTime": {
     "end_time": "2024-05-26T12:22:44.492438Z",
     "start_time": "2024-05-26T12:22:02.409249Z"
    }
   },
   "cell_type": "code",
   "source": [
    "def compute_centrality_features(g)->pd.DataFrame:\n",
    "    # approx 8 minutes of computation time on the full dataset.\n",
    "    # 1 minute on a 1-percent edge sample\n",
    "    betweenness_centrality = nx.betweenness_centrality(g)\n",
    "    closeness_centrality = nx.closeness_centrality(g) \n",
    "    ret = pd.DataFrame({'betweenness': betweenness_centrality, 'closeness': closeness_centrality})\n",
    "    return ret\n",
    "df_centrality_features = compute_centrality_features(g_scrambled)"
   ],
   "id": "c5a8e98fea99a560",
   "outputs": [],
   "execution_count": 13
  },
  {
   "metadata": {
    "ExecuteTime": {
     "end_time": "2024-05-26T12:22:44.494563Z",
     "start_time": "2024-05-26T12:22:44.493314Z"
    }
   },
   "cell_type": "code",
   "source": "",
   "id": "89af4b917b684146",
   "outputs": [],
   "execution_count": 13
  },
  {
   "metadata": {
    "ExecuteTime": {
     "end_time": "2024-05-26T12:22:45.847654Z",
     "start_time": "2024-05-26T12:22:44.495313Z"
    }
   },
   "cell_type": "code",
   "source": [
    "# community detection using louvain algorithm\n",
    "fig, ax= plt.subplots()\n",
    "for res in tqdm([0.1, 0.5, 1, 4]):\n",
    "    communities = nx.community.louvain_communities(g_scrambled, resolution=res)\n",
    "    sizes = [len(c) for c in communities]\n",
    "    sizes.sort(key=lambda x: -x)\n",
    "    ax.plot(range(len(sizes)), sizes, '.', label=f'resolution={res}')\n",
    "    # assign `community_{res}` attribute to the nodes\n",
    "    for i, c in enumerate(communities):\n",
    "        for n in c:\n",
    "            g_scrambled.nodes[n][f'community_{res:.2f}'] = f'community@{res:.2f}_{i:03d}'\n",
    "ax.legend()\n",
    "ax.set_yscale('log')\n"
   ],
   "id": "8ed1062f177e9d72",
   "outputs": [
    {
     "data": {
      "text/plain": [
       "  0%|          | 0/4 [00:00<?, ?it/s]"
      ],
      "application/vnd.jupyter.widget-view+json": {
       "version_major": 2,
       "version_minor": 0,
       "model_id": "5d9f1c9644aa4281860791a95302af45"
      }
     },
     "metadata": {},
     "output_type": "display_data"
    },
    {
     "data": {
      "text/plain": [
       "<Figure size 640x480 with 1 Axes>"
      ],
      "image/png": "[encoded data removed]"
     },
     "metadata": {},
     "output_type": "display_data"
    }
   ],
   "execution_count": 14
  },
  {
   "metadata": {},
   "cell_type": "markdown",
   "source": [
    "What we see is that the larger the `resolution` parameter of the Louvain algorithm, the larger the communities that are detected. This is because the resolution parameter controls the trade-off between the size of the communities and the number of communities. A larger resolution parameter will result in fewer, larger communities, while a smaller resolution parameter will result in more, smaller communities.\n",
    "\n",
    "\n",
    "We will use this use this information to count the fraction of neighbors that are in the same community as the node itself. We will repeat this for different values of the resolution parameter and use this as a feature for the classifier."
   ],
   "id": "a277d328d6f6321e"
  },
  {
   "metadata": {
    "ExecuteTime": {
     "end_time": "2024-05-26T12:22:50.502265Z",
     "start_time": "2024-05-26T12:22:45.848277Z"
    }
   },
   "cell_type": "code",
   "source": [
    "def compute_community_features(g)->pd.DataFrame:\n",
    "    # about 1 minute of computation time\n",
    "    resolutions = np.round(np.linspace(0.01, 4, 10), 2)\n",
    "    for res in tqdm(resolutions):\n",
    "        communities = nx.community.louvain_communities(g_scrambled, resolution=res)\n",
    "        sizes = [len(c) for c in communities]\n",
    "        sizes.sort(key=lambda x: -x)\n",
    "        ax.plot(range(len(sizes)), sizes, '.', label=f'resolution={res}')\n",
    "        # assign `community_{res}` attribute to the nodes\n",
    "        for i, c in enumerate(communities):\n",
    "            for n in c:\n",
    "                g_scrambled.nodes[n][f'community_{res:.2f}'] = f'community@{res:.2f}_{i:03d}'\n",
    "                \n",
    "    ret = []\n",
    "    for n in g.nodes:\n",
    "        neighbors = set(g.neighbors(n))\n",
    "        curr = {'node_id': n}\n",
    "        for res in (resolutions):\n",
    "            community_this = g.nodes[n][f'community_{res:.2f}']\n",
    "            neighbors_in_community = [g.nodes[nb][f'community_{res:.2f}'] == community_this for nb in neighbors]\n",
    "            neighboring_communities = set([g.nodes[nb][f'community_{res:.2f}'] for nb in neighbors])\n",
    "            n_neighboring_communities = len(neighboring_communities)\n",
    "            curr[f'same_community@{res:.2f}'] = sum(neighbors_in_community) / len(neighbors)\n",
    "            curr[f'n_neighboring_communities@{res:.2f}'] = n_neighboring_communities\n",
    "        ret.append(curr)\n",
    "    df_community_fraction = pd.DataFrame(ret).set_index('node_id')\n",
    "    cols_same = [c for c in df_community_fraction.columns if 'same_community' in c]\n",
    "    cols_neighboring = [c for c in df_community_fraction.columns if 'n_neighboring' in c]\n",
    "    mean_same = df_community_fraction[cols_same].mean(axis=1)\n",
    "    mean_neighboring = df_community_fraction[cols_neighboring].mean(axis=1)\n",
    "    df_community_fraction['mean_same'] = mean_same\n",
    "    df_community_fraction['mean_neighboring'] = mean_neighboring\n",
    "    for perc in [10, 25, 75, 90]:\n",
    "        df_community_fraction[f'percentile_same_{perc}'] = df_community_fraction[cols_same].apply(lambda x: np.percentile(x, perc), axis=1)\n",
    "        df_community_fraction[f'percentile_neighboring_{perc}'] = df_community_fraction[cols_neighboring].apply(lambda x: np.percentile(x, perc), axis=1)\n",
    "    \n",
    "    return df_community_fraction\n",
    "df_community_fraction = compute_community_features(g_scrambled)"
   ],
   "id": "2b871bb4ec9b671a",
   "outputs": [
    {
     "data": {
      "text/plain": [
       "  0%|          | 0/10 [00:00<?, ?it/s]"
      ],
      "application/vnd.jupyter.widget-view+json": {
       "version_major": 2,
       "version_minor": 0,
       "model_id": "786306b3785e4dc58af3cd96a40b697d"
      }
     },
     "metadata": {},
     "output_type": "display_data"
    }
   ],
   "execution_count": 15
  },
  {
   "metadata": {
    "ExecuteTime": {
     "end_time": "2024-05-26T12:22:51.147140Z",
     "start_time": "2024-05-26T12:22:50.502939Z"
    }
   },
   "cell_type": "code",
   "source": [
    "import time\n",
    "def compute_ego_graph_features(g):\n",
    "    vals = []\n",
    "    start = time.time()\n",
    "    for n in tqdm(g.nodes, desc='Ego-related features', total=len(g.nodes)):\n",
    "        ego = nx.ego_graph(g_scrambled, n, radius=1)\n",
    "        ego_no_self = ego.copy()\n",
    "        ego_no_self.remove_node(n)\n",
    "        \n",
    "        curr = dict(node_id=n)\n",
    "        betweenness_ego = nx.betweenness_centrality(ego)\n",
    "        curr['betweenness_ego'] = betweenness_ego[n]\n",
    "        \n",
    "        # closeness_ego = nx.closeness_centrality(ego)\n",
    "        # curr['closeness'] = closeness_ego[n]\n",
    "        \n",
    "        # clustering_before = nx.average_clustering(ego)\n",
    "        # clustering_after = nx.average_clustering(ego_no_self)\n",
    "        # curr['delta_clustering'] = clustering_after - clustering_before\n",
    "        \n",
    "        # diameter_before = nx.diameter(ego)\n",
    "        # try:\n",
    "        #     diameter_after = nx.diameter(ego_no_self)\n",
    "        # except nx.NetworkXError:\n",
    "        #     diameter_after =  len(ego_no_self.nodes)\n",
    "        # curr['delta_diameter'] = diameter_after - diameter_before\n",
    "        \n",
    "        curr['n_components_no_self'] = nx.number_connected_components(ego_no_self)\n",
    "        density_before = nx.density(ego)\n",
    "        density_after = nx.density(ego_no_self)\n",
    "        curr['delta_density'] = density_after - density_before\n",
    "        vals.append(curr)\n",
    "    return pd.DataFrame(vals).set_index('node_id')\n",
    "df_egograph_features = compute_ego_graph_features(g_scrambled)"
   ],
   "id": "a1fe66f350c1001d",
   "outputs": [
    {
     "data": {
      "text/plain": [
       "Ego-related features:   0%|          | 0/5793 [00:00<?, ?it/s]"
      ],
      "application/vnd.jupyter.widget-view+json": {
       "version_major": 2,
       "version_minor": 0,
       "model_id": "74ea53c459cb4705a5a1c95bb45c0eb4"
      }
     },
     "metadata": {},
     "output_type": "display_data"
    }
   ],
   "execution_count": 16
  },
  {
   "metadata": {
    "ExecuteTime": {
     "end_time": "2024-05-26T12:22:51.153333Z",
     "start_time": "2024-05-26T12:22:51.147657Z"
    }
   },
   "cell_type": "code",
   "source": [
    "df_all = pd.concat([\n",
    "    df_egograph_features, \n",
    "    df_centrality_features, \n",
    "    df_community_fraction\n",
    "], axis=1)\n",
    "y = np.array(['scrambled' in i for i in df_community_fraction.index])\n",
    "print(f'{df_all.shape=}, {y.mean()=:.3f}')"
   ],
   "id": "a8747d5cdee9bfb8",
   "outputs": [
    {
     "name": "stdout",
     "output_type": "stream",
     "text": [
      "df_all.shape=(5793, 35), y.mean()=0.005\n"
     ]
    }
   ],
   "execution_count": 17
  },
  {
   "metadata": {
    "ExecuteTime": {
     "end_time": "2024-05-26T12:22:51.695245Z",
     "start_time": "2024-05-26T12:22:51.153870Z"
    }
   },
   "cell_type": "code",
   "source": [
    "\n",
    "imbalance = y.sum() / len(y)\n",
    "weights = np.ones_like(y, dtype=float)\n",
    "weights[y] = 100\n",
    "\n",
    "# Split the dataset into training and testing sets\n",
    "X_train, X_test, y_train, y_test, weights_train, weights_test = train_test_split(\n",
    "    df_all, \n",
    "    y, \n",
    "    weights, \n",
    "    test_size=0.2, \n",
    "    random_state=42\n",
    ")\n",
    "\n",
    "# Initialize the CatBoost classifier\n",
    "classifier = CatBoostClassifier(\n",
    "    iterations=1000,\n",
    "    learning_rate=1e-4,\n",
    "    depth=8,  \n",
    "    loss_function='Logloss',\n",
    "    eval_metric='AUC',\n",
    "    early_stopping_rounds=150,  # Early stopping\n",
    "    l2_leaf_reg=10,  # L2 regularization\n",
    "    subsample=0.8,  # Subsample fraction\n",
    "    verbose=True,\n",
    ")\n",
    "# Fit the model with sample weights\n",
    "classifier.fit(X_train, y_train, sample_weight=weights_train, eval_set=(X_test, y_test), plot=True)\n"
   ],
   "id": "260c3d98bb7151bc",
   "outputs": [
    {
     "data": {
      "text/plain": [
       "MetricVisualizer(layout=Layout(align_self='stretch', height='500px'))"
      ],
      "application/vnd.jupyter.widget-view+json": {
       "version_major": 2,
       "version_minor": 0,
       "model_id": "e0f37f369531409699325b7047643031"
      }
     },
     "metadata": {},
     "output_type": "display_data"
    },
    {
     "name": "stdout",
     "output_type": "stream",
     "text": [
      "0:\ttest: 0.8250218\tbest: 0.8250218 (0)\ttotal: 59.6ms\tremaining: 59.5s\n",
      "1:\ttest: 0.8533507\tbest: 0.8533507 (1)\ttotal: 62.3ms\tremaining: 31.1s\n",
      "2:\ttest: 0.8798085\tbest: 0.8798085 (2)\ttotal: 65.4ms\tremaining: 21.7s\n",
      "3:\ttest: 0.8734987\tbest: 0.8798085 (2)\ttotal: 68.9ms\tremaining: 17.1s\n",
      "4:\ttest: 0.8674064\tbest: 0.8798085 (2)\ttotal: 70.4ms\tremaining: 14s\n",
      "5:\ttest: 0.8589208\tbest: 0.8798085 (2)\ttotal: 73.9ms\tremaining: 12.2s\n",
      "6:\ttest: 0.8603133\tbest: 0.8798085 (2)\ttotal: 76.9ms\tremaining: 10.9s\n",
      "7:\ttest: 0.8548738\tbest: 0.8798085 (2)\ttotal: 79.7ms\tremaining: 9.88s\n",
      "8:\ttest: 0.8536554\tbest: 0.8798085 (2)\ttotal: 83.8ms\tremaining: 9.23s\n",
      "9:\ttest: 0.8536989\tbest: 0.8798085 (2)\ttotal: 88.3ms\tremaining: 8.74s\n",
      "10:\ttest: 0.8555265\tbest: 0.8798085 (2)\ttotal: 91.6ms\tremaining: 8.24s\n",
      "11:\ttest: 0.8546562\tbest: 0.8798085 (2)\ttotal: 95.1ms\tremaining: 7.83s\n",
      "12:\ttest: 0.8531767\tbest: 0.8798085 (2)\ttotal: 98.1ms\tremaining: 7.45s\n",
      "13:\ttest: 0.8657963\tbest: 0.8798085 (2)\ttotal: 101ms\tremaining: 7.11s\n",
      "14:\ttest: 0.8682332\tbest: 0.8798085 (2)\ttotal: 103ms\tremaining: 6.79s\n",
      "15:\ttest: 0.8729330\tbest: 0.8798085 (2)\ttotal: 106ms\tremaining: 6.55s\n",
      "16:\ttest: 0.8692776\tbest: 0.8798085 (2)\ttotal: 110ms\tremaining: 6.34s\n",
      "17:\ttest: 0.8690165\tbest: 0.8798085 (2)\ttotal: 112ms\tremaining: 6.13s\n",
      "18:\ttest: 0.8686684\tbest: 0.8798085 (2)\ttotal: 115ms\tremaining: 5.96s\n",
      "19:\ttest: 0.8709312\tbest: 0.8798085 (2)\ttotal: 119ms\tremaining: 5.81s\n",
      "20:\ttest: 0.8709312\tbest: 0.8798085 (2)\ttotal: 121ms\tremaining: 5.65s\n",
      "21:\ttest: 0.8705831\tbest: 0.8798085 (2)\ttotal: 125ms\tremaining: 5.54s\n",
      "22:\ttest: 0.8710183\tbest: 0.8798085 (2)\ttotal: 128ms\tremaining: 5.42s\n",
      "23:\ttest: 0.8712794\tbest: 0.8798085 (2)\ttotal: 131ms\tremaining: 5.33s\n",
      "24:\ttest: 0.8742820\tbest: 0.8798085 (2)\ttotal: 136ms\tremaining: 5.28s\n",
      "25:\ttest: 0.8719321\tbest: 0.8798085 (2)\ttotal: 139ms\tremaining: 5.22s\n",
      "26:\ttest: 0.8713229\tbest: 0.8798085 (2)\ttotal: 143ms\tremaining: 5.15s\n",
      "27:\ttest: 0.8701480\tbest: 0.8798085 (2)\ttotal: 146ms\tremaining: 5.07s\n",
      "28:\ttest: 0.8704961\tbest: 0.8798085 (2)\ttotal: 149ms\tremaining: 4.99s\n",
      "29:\ttest: 0.8713664\tbest: 0.8798085 (2)\ttotal: 152ms\tremaining: 4.91s\n",
      "30:\ttest: 0.8715405\tbest: 0.8798085 (2)\ttotal: 156ms\tremaining: 4.87s\n",
      "31:\ttest: 0.8694517\tbest: 0.8798085 (2)\ttotal: 159ms\tremaining: 4.82s\n",
      "32:\ttest: 0.8680592\tbest: 0.8798085 (2)\ttotal: 162ms\tremaining: 4.75s\n",
      "33:\ttest: 0.8690165\tbest: 0.8798085 (2)\ttotal: 165ms\tremaining: 4.68s\n",
      "34:\ttest: 0.8678851\tbest: 0.8798085 (2)\ttotal: 167ms\tremaining: 4.61s\n",
      "35:\ttest: 0.8675370\tbest: 0.8798085 (2)\ttotal: 170ms\tremaining: 4.55s\n",
      "36:\ttest: 0.8640122\tbest: 0.8798085 (2)\ttotal: 173ms\tremaining: 4.49s\n",
      "37:\ttest: 0.8647084\tbest: 0.8798085 (2)\ttotal: 175ms\tremaining: 4.44s\n",
      "38:\ttest: 0.8639252\tbest: 0.8798085 (2)\ttotal: 178ms\tremaining: 4.38s\n",
      "39:\ttest: 0.8648825\tbest: 0.8798085 (2)\ttotal: 180ms\tremaining: 4.33s\n",
      "40:\ttest: 0.8651436\tbest: 0.8798085 (2)\ttotal: 183ms\tremaining: 4.27s\n",
      "41:\ttest: 0.8666667\tbest: 0.8798085 (2)\ttotal: 185ms\tremaining: 4.23s\n",
      "42:\ttest: 0.8652742\tbest: 0.8798085 (2)\ttotal: 189ms\tremaining: 4.2s\n",
      "43:\ttest: 0.8648390\tbest: 0.8798085 (2)\ttotal: 192ms\tremaining: 4.18s\n",
      "44:\ttest: 0.8695387\tbest: 0.8798085 (2)\ttotal: 196ms\tremaining: 4.15s\n",
      "45:\ttest: 0.8702350\tbest: 0.8798085 (2)\ttotal: 199ms\tremaining: 4.12s\n",
      "46:\ttest: 0.8702350\tbest: 0.8798085 (2)\ttotal: 202ms\tremaining: 4.09s\n",
      "47:\ttest: 0.8714970\tbest: 0.8798085 (2)\ttotal: 204ms\tremaining: 4.05s\n",
      "48:\ttest: 0.8725413\tbest: 0.8798085 (2)\ttotal: 207ms\tremaining: 4.02s\n",
      "49:\ttest: 0.8722802\tbest: 0.8798085 (2)\ttotal: 210ms\tremaining: 4s\n",
      "50:\ttest: 0.8701044\tbest: 0.8798085 (2)\ttotal: 214ms\tremaining: 3.97s\n",
      "51:\ttest: 0.8684943\tbest: 0.8798085 (2)\ttotal: 217ms\tremaining: 3.95s\n",
      "52:\ttest: 0.8691906\tbest: 0.8798085 (2)\ttotal: 221ms\tremaining: 3.94s\n",
      "53:\ttest: 0.8688425\tbest: 0.8798085 (2)\ttotal: 224ms\tremaining: 3.92s\n",
      "54:\ttest: 0.8684943\tbest: 0.8798085 (2)\ttotal: 227ms\tremaining: 3.9s\n",
      "55:\ttest: 0.8687554\tbest: 0.8798085 (2)\ttotal: 230ms\tremaining: 3.87s\n",
      "56:\ttest: 0.8691906\tbest: 0.8798085 (2)\ttotal: 233ms\tremaining: 3.85s\n",
      "57:\ttest: 0.8686684\tbest: 0.8798085 (2)\ttotal: 236ms\tremaining: 3.83s\n",
      "58:\ttest: 0.8689295\tbest: 0.8798085 (2)\ttotal: 239ms\tremaining: 3.81s\n",
      "59:\ttest: 0.8701915\tbest: 0.8798085 (2)\ttotal: 242ms\tremaining: 3.79s\n",
      "60:\ttest: 0.8708007\tbest: 0.8798085 (2)\ttotal: 244ms\tremaining: 3.76s\n",
      "61:\ttest: 0.8723673\tbest: 0.8798085 (2)\ttotal: 247ms\tremaining: 3.74s\n",
      "62:\ttest: 0.8719321\tbest: 0.8798085 (2)\ttotal: 250ms\tremaining: 3.72s\n",
      "63:\ttest: 0.8702785\tbest: 0.8798085 (2)\ttotal: 253ms\tremaining: 3.7s\n",
      "64:\ttest: 0.8712359\tbest: 0.8798085 (2)\ttotal: 256ms\tremaining: 3.68s\n",
      "65:\ttest: 0.8708007\tbest: 0.8798085 (2)\ttotal: 259ms\tremaining: 3.67s\n",
      "66:\ttest: 0.8708007\tbest: 0.8798085 (2)\ttotal: 262ms\tremaining: 3.65s\n",
      "67:\ttest: 0.8711488\tbest: 0.8798085 (2)\ttotal: 266ms\tremaining: 3.64s\n",
      "68:\ttest: 0.8714970\tbest: 0.8798085 (2)\ttotal: 269ms\tremaining: 3.63s\n",
      "69:\ttest: 0.8697563\tbest: 0.8798085 (2)\ttotal: 272ms\tremaining: 3.61s\n",
      "70:\ttest: 0.8703655\tbest: 0.8798085 (2)\ttotal: 274ms\tremaining: 3.59s\n",
      "71:\ttest: 0.8704526\tbest: 0.8798085 (2)\ttotal: 278ms\tremaining: 3.58s\n",
      "72:\ttest: 0.8697563\tbest: 0.8798085 (2)\ttotal: 281ms\tremaining: 3.57s\n",
      "73:\ttest: 0.8702785\tbest: 0.8798085 (2)\ttotal: 284ms\tremaining: 3.56s\n",
      "74:\ttest: 0.8705396\tbest: 0.8798085 (2)\ttotal: 287ms\tremaining: 3.53s\n",
      "75:\ttest: 0.8711488\tbest: 0.8798085 (2)\ttotal: 289ms\tremaining: 3.51s\n",
      "76:\ttest: 0.8703655\tbest: 0.8798085 (2)\ttotal: 293ms\tremaining: 3.51s\n",
      "77:\ttest: 0.8702785\tbest: 0.8798085 (2)\ttotal: 296ms\tremaining: 3.5s\n",
      "78:\ttest: 0.8702785\tbest: 0.8798085 (2)\ttotal: 300ms\tremaining: 3.49s\n",
      "79:\ttest: 0.8698433\tbest: 0.8798085 (2)\ttotal: 303ms\tremaining: 3.48s\n",
      "80:\ttest: 0.8692341\tbest: 0.8798085 (2)\ttotal: 305ms\tremaining: 3.46s\n",
      "81:\ttest: 0.8693211\tbest: 0.8798085 (2)\ttotal: 309ms\tremaining: 3.46s\n",
      "82:\ttest: 0.8692341\tbest: 0.8798085 (2)\ttotal: 312ms\tremaining: 3.44s\n",
      "83:\ttest: 0.8694082\tbest: 0.8798085 (2)\ttotal: 315ms\tremaining: 3.43s\n",
      "84:\ttest: 0.8691471\tbest: 0.8798085 (2)\ttotal: 317ms\tremaining: 3.42s\n",
      "85:\ttest: 0.8688860\tbest: 0.8798085 (2)\ttotal: 320ms\tremaining: 3.4s\n",
      "86:\ttest: 0.8690601\tbest: 0.8798085 (2)\ttotal: 322ms\tremaining: 3.38s\n",
      "87:\ttest: 0.8691471\tbest: 0.8798085 (2)\ttotal: 326ms\tremaining: 3.38s\n",
      "88:\ttest: 0.8690601\tbest: 0.8798085 (2)\ttotal: 329ms\tremaining: 3.37s\n",
      "89:\ttest: 0.8701044\tbest: 0.8798085 (2)\ttotal: 332ms\tremaining: 3.35s\n",
      "90:\ttest: 0.8705396\tbest: 0.8798085 (2)\ttotal: 334ms\tremaining: 3.33s\n",
      "91:\ttest: 0.8708877\tbest: 0.8798085 (2)\ttotal: 336ms\tremaining: 3.32s\n",
      "92:\ttest: 0.8701044\tbest: 0.8798085 (2)\ttotal: 339ms\tremaining: 3.31s\n",
      "93:\ttest: 0.8702785\tbest: 0.8798085 (2)\ttotal: 342ms\tremaining: 3.3s\n",
      "94:\ttest: 0.8711488\tbest: 0.8798085 (2)\ttotal: 345ms\tremaining: 3.28s\n",
      "95:\ttest: 0.8711488\tbest: 0.8798085 (2)\ttotal: 347ms\tremaining: 3.27s\n",
      "96:\ttest: 0.8654047\tbest: 0.8798085 (2)\ttotal: 350ms\tremaining: 3.26s\n",
      "97:\ttest: 0.8654047\tbest: 0.8798085 (2)\ttotal: 353ms\tremaining: 3.25s\n",
      "98:\ttest: 0.8655788\tbest: 0.8798085 (2)\ttotal: 355ms\tremaining: 3.23s\n",
      "99:\ttest: 0.8653177\tbest: 0.8798085 (2)\ttotal: 358ms\tremaining: 3.22s\n",
      "100:\ttest: 0.8654917\tbest: 0.8798085 (2)\ttotal: 360ms\tremaining: 3.21s\n",
      "101:\ttest: 0.8660139\tbest: 0.8798085 (2)\ttotal: 363ms\tremaining: 3.19s\n",
      "102:\ttest: 0.8667102\tbest: 0.8798085 (2)\ttotal: 365ms\tremaining: 3.18s\n",
      "103:\ttest: 0.8668842\tbest: 0.8798085 (2)\ttotal: 368ms\tremaining: 3.17s\n",
      "104:\ttest: 0.8669713\tbest: 0.8798085 (2)\ttotal: 370ms\tremaining: 3.15s\n",
      "105:\ttest: 0.8672324\tbest: 0.8798085 (2)\ttotal: 372ms\tremaining: 3.14s\n",
      "106:\ttest: 0.8670583\tbest: 0.8798085 (2)\ttotal: 376ms\tremaining: 3.13s\n",
      "107:\ttest: 0.8677546\tbest: 0.8798085 (2)\ttotal: 379ms\tremaining: 3.13s\n",
      "108:\ttest: 0.8677546\tbest: 0.8798085 (2)\ttotal: 382ms\tremaining: 3.13s\n",
      "109:\ttest: 0.8679286\tbest: 0.8798085 (2)\ttotal: 386ms\tremaining: 3.12s\n",
      "110:\ttest: 0.8675805\tbest: 0.8798085 (2)\ttotal: 388ms\tremaining: 3.11s\n",
      "111:\ttest: 0.8679286\tbest: 0.8798085 (2)\ttotal: 391ms\tremaining: 3.1s\n",
      "112:\ttest: 0.8672324\tbest: 0.8798085 (2)\ttotal: 394ms\tremaining: 3.09s\n",
      "113:\ttest: 0.8676675\tbest: 0.8798085 (2)\ttotal: 397ms\tremaining: 3.08s\n",
      "114:\ttest: 0.8671453\tbest: 0.8798085 (2)\ttotal: 399ms\tremaining: 3.07s\n",
      "115:\ttest: 0.8667972\tbest: 0.8798085 (2)\ttotal: 402ms\tremaining: 3.06s\n",
      "116:\ttest: 0.8672324\tbest: 0.8798085 (2)\ttotal: 404ms\tremaining: 3.05s\n",
      "117:\ttest: 0.8672324\tbest: 0.8798085 (2)\ttotal: 407ms\tremaining: 3.04s\n",
      "118:\ttest: 0.8676675\tbest: 0.8798085 (2)\ttotal: 410ms\tremaining: 3.04s\n",
      "119:\ttest: 0.8674935\tbest: 0.8798085 (2)\ttotal: 413ms\tremaining: 3.03s\n",
      "120:\ttest: 0.8677546\tbest: 0.8798085 (2)\ttotal: 416ms\tremaining: 3.02s\n",
      "121:\ttest: 0.8674935\tbest: 0.8798085 (2)\ttotal: 420ms\tremaining: 3.02s\n",
      "122:\ttest: 0.8671453\tbest: 0.8798085 (2)\ttotal: 423ms\tremaining: 3.01s\n",
      "123:\ttest: 0.8681027\tbest: 0.8798085 (2)\ttotal: 425ms\tremaining: 3s\n",
      "124:\ttest: 0.8686249\tbest: 0.8798085 (2)\ttotal: 428ms\tremaining: 2.99s\n",
      "125:\ttest: 0.8687119\tbest: 0.8798085 (2)\ttotal: 431ms\tremaining: 2.99s\n",
      "126:\ttest: 0.8692341\tbest: 0.8798085 (2)\ttotal: 433ms\tremaining: 2.98s\n",
      "127:\ttest: 0.8684508\tbest: 0.8798085 (2)\ttotal: 436ms\tremaining: 2.97s\n",
      "128:\ttest: 0.8681027\tbest: 0.8798085 (2)\ttotal: 438ms\tremaining: 2.96s\n",
      "129:\ttest: 0.8675805\tbest: 0.8798085 (2)\ttotal: 441ms\tremaining: 2.95s\n",
      "130:\ttest: 0.8680157\tbest: 0.8798085 (2)\ttotal: 444ms\tremaining: 2.94s\n",
      "131:\ttest: 0.8680157\tbest: 0.8798085 (2)\ttotal: 447ms\tremaining: 2.94s\n",
      "132:\ttest: 0.8681897\tbest: 0.8798085 (2)\ttotal: 451ms\tremaining: 2.94s\n",
      "133:\ttest: 0.8679286\tbest: 0.8798085 (2)\ttotal: 454ms\tremaining: 2.93s\n",
      "134:\ttest: 0.8682768\tbest: 0.8798085 (2)\ttotal: 457ms\tremaining: 2.93s\n",
      "135:\ttest: 0.8679286\tbest: 0.8798085 (2)\ttotal: 460ms\tremaining: 2.92s\n",
      "136:\ttest: 0.8682768\tbest: 0.8798085 (2)\ttotal: 464ms\tremaining: 2.92s\n",
      "137:\ttest: 0.8682768\tbest: 0.8798085 (2)\ttotal: 467ms\tremaining: 2.92s\n",
      "138:\ttest: 0.8680157\tbest: 0.8798085 (2)\ttotal: 469ms\tremaining: 2.91s\n",
      "139:\ttest: 0.8680157\tbest: 0.8798085 (2)\ttotal: 472ms\tremaining: 2.9s\n",
      "140:\ttest: 0.8672324\tbest: 0.8798085 (2)\ttotal: 476ms\tremaining: 2.9s\n",
      "141:\ttest: 0.8671453\tbest: 0.8798085 (2)\ttotal: 478ms\tremaining: 2.89s\n",
      "142:\ttest: 0.8674064\tbest: 0.8798085 (2)\ttotal: 481ms\tremaining: 2.88s\n",
      "143:\ttest: 0.8673194\tbest: 0.8798085 (2)\ttotal: 483ms\tremaining: 2.87s\n",
      "144:\ttest: 0.8667102\tbest: 0.8798085 (2)\ttotal: 487ms\tremaining: 2.87s\n",
      "145:\ttest: 0.8670583\tbest: 0.8798085 (2)\ttotal: 490ms\tremaining: 2.86s\n",
      "146:\ttest: 0.8669713\tbest: 0.8798085 (2)\ttotal: 493ms\tremaining: 2.86s\n",
      "147:\ttest: 0.8667102\tbest: 0.8798085 (2)\ttotal: 496ms\tremaining: 2.86s\n",
      "148:\ttest: 0.8670583\tbest: 0.8798085 (2)\ttotal: 500ms\tremaining: 2.86s\n",
      "149:\ttest: 0.8670583\tbest: 0.8798085 (2)\ttotal: 504ms\tremaining: 2.85s\n",
      "150:\ttest: 0.8668842\tbest: 0.8798085 (2)\ttotal: 506ms\tremaining: 2.85s\n",
      "151:\ttest: 0.8667102\tbest: 0.8798085 (2)\ttotal: 509ms\tremaining: 2.84s\n",
      "152:\ttest: 0.8672324\tbest: 0.8798085 (2)\ttotal: 512ms\tremaining: 2.83s\n",
      "Stopped by overfitting detector  (150 iterations wait)\n",
      "\n",
      "bestTest = 0.8798085292\n",
      "bestIteration = 2\n",
      "\n",
      "Shrink model to first 3 iterations.\n"
     ]
    },
    {
     "data": {
      "text/plain": [
       "<catboost.core.CatBoostClassifier at 0x16c65a5d0>"
      ]
     },
     "execution_count": 18,
     "metadata": {},
     "output_type": "execute_result"
    }
   ],
   "execution_count": 18
  },
  {
   "metadata": {
    "ExecuteTime": {
     "end_time": "2024-05-26T12:29:43.509359Z",
     "start_time": "2024-05-26T12:29:43.156270Z"
    }
   },
   "cell_type": "code",
   "source": [
    "from sklearn.metrics import roc_curve, auc\n",
    "\n",
    "\n",
    "def prediction_performance(X_test, y_test, classifier):\n",
    "    # Predict and evaluate if needed\n",
    "    y_pred = classifier.predict(X_test)\n",
    "    p_pred_proba = classifier.predict_proba(X_test)[:, 1]\n",
    "    mcc = matthews_corrcoef(y_test, y_pred)\n",
    "    print(f'Matthews correlation coefficient: {mcc:.2f}')\n",
    "    precision = 100 * np.sum(y_test & y_pred) / np.sum(y_pred)\n",
    "    recall = 100 * np.sum(y_test & y_pred) / np.sum(y_test)\n",
    "    print(f'Of the {y_pred.sum():3,d} nodes predicted as scrambled,      {precision:.1f}% are actually scrambled')\n",
    "    print(f'Of the {y_test.sum():,d}  nodes that are actually scrambled, {recall:.1f}% are predicted as scrambled')\n",
    "    \n",
    "    fig, axes = plt.subplots(nrows=2, ncols=2, figsize=(9, 6), height_ratios=[5, 1], width_ratios=[5, 4])\n",
    "    ax = axes[0,0]\n",
    "    # roc curve\n",
    "    fpr, tpr, _ = roc_curve(y_test, p_pred_proba)\n",
    "    ax.plot(fpr, tpr)\n",
    "    ax.plot([0, 1], [0, 1], linestyle='--')\n",
    "    ax.set_xlabel('False positive rate')\n",
    "    ax.set_ylabel('True positive rate')\n",
    "    auc_score = auc(fpr, tpr)\n",
    "    ax.set_title(f'AUC: {auc_score:.2f}', va='top')\n",
    "    \n",
    "    ax = axes[1, 0]\n",
    "    lix= np.argsort(p_pred_proba)\n",
    "    ax.plot(p_pred_proba[lix], '.', ms=0.5)\n",
    "    y_test_sorted = y_test[lix]\n",
    "    for i in range(len(y_test_sorted)):\n",
    "        if y_test_sorted[i]:\n",
    "            ax.axvline(i, color='red', alpha=0.4)\n",
    "    ax.axhline(0.5, color='black', linestyle='--')\n",
    "    \n",
    "    ax = axes[0, 1]\n",
    "    # feature importance\n",
    "    try:\n",
    "        feature_importance = classifier.get_feature_importance(prettified=True).head(10).iloc[::-1]\n",
    "        feature_importance.plot.barh(x='Feature Id', y='Importances', legend=False, ax=ax)\n",
    "        ax.set_ylabel('')\n",
    "        ax.set_xlabel('Feature Importance')\n",
    "    except:\n",
    "        ax.axis('off')\n",
    "    \n",
    "    ax = axes[1, 1]\n",
    "    # turn off\n",
    "    ax.axis('off')\n",
    "    fig.tight_layout()\n",
    "    \n",
    "    \n",
    "    \n",
    "prediction_performance(X_test, y_test, classifier)    \n",
    "fig = plt.gcf()\n",
    "fig.suptitle('Prediction performance on the partial dataset', y=1.02)"
   ],
   "id": "be3eb326e55be7b9",
   "outputs": [
    {
     "name": "stdout",
     "output_type": "stream",
     "text": [
      "Matthews correlation coefficient: 0.07\n",
      "Of the  75 nodes predicted as scrambled,      2.7% are actually scrambled\n",
      "Of the 7  nodes that are actually scrambled, 28.6% are predicted as scrambled\n"
     ]
    },
    {
     "data": {
      "text/plain": [
       "Text(0.5, 1.02, 'Prediction performance on the partial dataset')"
      ]
     },
     "execution_count": 38,
     "metadata": {},
     "output_type": "execute_result"
    },
    {
     "data": {
      "text/plain": [
       "<Figure size 900x600 with 4 Axes>"
      ],
      "image/png": "[encoded data removed]"
     },
     "metadata": {},
     "output_type": "display_data"
    }
   ],
   "execution_count": 38
  },
  {
   "metadata": {},
   "cell_type": "markdown",
   "source": "Now, let's load the full dataset",
   "id": "17b0843345f1493b"
  },
  {
   "metadata": {
    "ExecuteTime": {
     "end_time": "2024-05-26T12:29:50.600432Z",
     "start_time": "2024-05-26T12:29:50.564568Z"
    }
   },
   "cell_type": "code",
   "source": [
    "df_full = pd.read_csv('ca-HepPh_disambiguation_features.csv').set_index('index', drop=True)\n",
    "cols = ['betweenness_ego', 'n_components_no_self', 'delta_density','betweenness', 'closeness', 'mean_same', 'mean_neighboring', 'percentile_same_10', 'percentile_same_25', 'percentile_same_75', 'percentile_same_90', 'percentile_neighboring_10', 'percentile_neighboring_25', 'percentile_neighboring_75', 'percentile_neighboring_90']\n",
    "print(f'{df_full.shape=}')\n",
    "df_full = df_full[cols]"
   ],
   "id": "315a891ce5349793",
   "outputs": [
    {
     "name": "stdout",
     "output_type": "stream",
     "text": [
      "df_full.shape=(5793, 36)\n"
     ]
    }
   ],
   "execution_count": 39
  },
  {
   "metadata": {
    "ExecuteTime": {
     "end_time": "2024-05-26T12:30:02.171908Z",
     "start_time": "2024-05-26T12:29:50.774190Z"
    }
   },
   "cell_type": "code",
   "source": [
    "y = np.array(['scrambled' in i for i in df_full.index])\n",
    "weights = np.ones_like(y, dtype=float)\n",
    "weights[y] = 100\n",
    "X_train, X_test, y_train, y_test, weights_train, weights_test = train_test_split(\n",
    "    df_full, \n",
    "    y, \n",
    "    weights, \n",
    "    test_size=0.2, \n",
    "    random_state=42\n",
    ")\n",
    "classifier = CatBoostClassifier(\n",
    "    iterations=1000,\n",
    "    learning_rate=1e-5,\n",
    "    depth=12,  \n",
    "    loss_function='Logloss',\n",
    "    eval_metric='AUC',\n",
    "    early_stopping_rounds=150,  # Early stopping\n",
    "    l2_leaf_reg=10,  # L2 regularization\n",
    "    subsample=0.8,  # Subsample fraction\n",
    "    verbose=True,\n",
    ")\n",
    "classifier.fit(X_train, y_train, sample_weight=weights_train, eval_set=(X_test, y_test), plot=True)"
   ],
   "id": "bac935e6d2b76aef",
   "outputs": [
    {
     "data": {
      "text/plain": [
       "MetricVisualizer(layout=Layout(align_self='stretch', height='500px'))"
      ],
      "application/vnd.jupyter.widget-view+json": {
       "version_major": 2,
       "version_minor": 0,
       "model_id": "5614fc72094d42e88954a4882b8610fc"
      }
     },
     "metadata": {},
     "output_type": "display_data"
    },
    {
     "name": "stdout",
     "output_type": "stream",
     "text": [
      "0:\ttest: 0.6480035\tbest: 0.6480035 (0)\ttotal: 88.4ms\tremaining: 1m 28s\n",
      "1:\ttest: 0.6982267\tbest: 0.6982267 (1)\ttotal: 114ms\tremaining: 56.9s\n",
      "2:\ttest: 0.6456473\tbest: 0.6982267 (1)\ttotal: 138ms\tremaining: 45.9s\n",
      "3:\ttest: 0.6484375\tbest: 0.6982267 (1)\ttotal: 141ms\tremaining: 35s\n",
      "4:\ttest: 0.6573661\tbest: 0.6982267 (1)\ttotal: 160ms\tremaining: 31.9s\n",
      "5:\ttest: 0.7271205\tbest: 0.7271205 (5)\ttotal: 177ms\tremaining: 29.3s\n",
      "6:\ttest: 0.7181300\tbest: 0.7271205 (5)\ttotal: 198ms\tremaining: 28s\n",
      "7:\ttest: 0.7232143\tbest: 0.7271205 (5)\ttotal: 213ms\tremaining: 26.4s\n",
      "8:\ttest: 0.7238963\tbest: 0.7271205 (5)\ttotal: 232ms\tremaining: 25.5s\n",
      "9:\ttest: 0.7266245\tbest: 0.7271205 (5)\ttotal: 253ms\tremaining: 25.1s\n",
      "10:\ttest: 0.7147197\tbest: 0.7271205 (5)\ttotal: 277ms\tremaining: 24.9s\n",
      "11:\ttest: 0.7415675\tbest: 0.7415675 (11)\ttotal: 303ms\tremaining: 24.9s\n",
      "12:\ttest: 0.7475818\tbest: 0.7475818 (12)\ttotal: 329ms\tremaining: 25s\n",
      "13:\ttest: 0.7502480\tbest: 0.7502480 (13)\ttotal: 350ms\tremaining: 24.7s\n",
      "14:\ttest: 0.7537202\tbest: 0.7537202 (14)\ttotal: 373ms\tremaining: 24.5s\n",
      "15:\ttest: 0.7574405\tbest: 0.7574405 (15)\ttotal: 391ms\tremaining: 24s\n",
      "16:\ttest: 0.7460938\tbest: 0.7574405 (15)\ttotal: 414ms\tremaining: 23.9s\n",
      "17:\ttest: 0.7454737\tbest: 0.7574405 (15)\ttotal: 438ms\tremaining: 23.9s\n",
      "18:\ttest: 0.7364211\tbest: 0.7574405 (15)\ttotal: 453ms\tremaining: 23.4s\n",
      "19:\ttest: 0.7380332\tbest: 0.7574405 (15)\ttotal: 471ms\tremaining: 23.1s\n",
      "20:\ttest: 0.7462178\tbest: 0.7574405 (15)\ttotal: 487ms\tremaining: 22.7s\n",
      "21:\ttest: 0.7407614\tbest: 0.7574405 (15)\ttotal: 506ms\tremaining: 22.5s\n",
      "22:\ttest: 0.7392113\tbest: 0.7574405 (15)\ttotal: 526ms\tremaining: 22.3s\n",
      "23:\ttest: 0.7362971\tbest: 0.7574405 (15)\ttotal: 545ms\tremaining: 22.2s\n",
      "24:\ttest: 0.7362971\tbest: 0.7574405 (15)\ttotal: 571ms\tremaining: 22.3s\n",
      "25:\ttest: 0.7424975\tbest: 0.7574405 (15)\ttotal: 593ms\tremaining: 22.2s\n",
      "26:\ttest: 0.7386533\tbest: 0.7574405 (15)\ttotal: 610ms\tremaining: 22s\n",
      "27:\ttest: 0.7368552\tbest: 0.7574405 (15)\ttotal: 627ms\tremaining: 21.8s\n",
      "28:\ttest: 0.7356151\tbest: 0.7574405 (15)\ttotal: 645ms\tremaining: 21.6s\n",
      "29:\ttest: 0.7330109\tbest: 0.7574405 (15)\ttotal: 664ms\tremaining: 21.5s\n",
      "30:\ttest: 0.7346230\tbest: 0.7574405 (15)\ttotal: 685ms\tremaining: 21.4s\n",
      "31:\ttest: 0.7358631\tbest: 0.7574405 (15)\ttotal: 703ms\tremaining: 21.3s\n",
      "32:\ttest: 0.7371032\tbest: 0.7574405 (15)\ttotal: 722ms\tremaining: 21.2s\n",
      "33:\ttest: 0.7434276\tbest: 0.7574405 (15)\ttotal: 741ms\tremaining: 21s\n",
      "34:\ttest: 0.7418155\tbest: 0.7574405 (15)\ttotal: 757ms\tremaining: 20.9s\n",
      "35:\ttest: 0.7455357\tbest: 0.7574405 (15)\ttotal: 776ms\tremaining: 20.8s\n",
      "36:\ttest: 0.7472718\tbest: 0.7574405 (15)\ttotal: 792ms\tremaining: 20.6s\n",
      "37:\ttest: 0.7507440\tbest: 0.7574405 (15)\ttotal: 807ms\tremaining: 20.4s\n",
      "38:\ttest: 0.7501240\tbest: 0.7574405 (15)\ttotal: 822ms\tremaining: 20.2s\n",
      "39:\ttest: 0.7498760\tbest: 0.7574405 (15)\ttotal: 837ms\tremaining: 20.1s\n",
      "40:\ttest: 0.7492560\tbest: 0.7574405 (15)\ttotal: 852ms\tremaining: 19.9s\n",
      "41:\ttest: 0.7521081\tbest: 0.7574405 (15)\ttotal: 868ms\tremaining: 19.8s\n",
      "42:\ttest: 0.7501240\tbest: 0.7574405 (15)\ttotal: 882ms\tremaining: 19.6s\n",
      "43:\ttest: 0.7518601\tbest: 0.7574405 (15)\ttotal: 895ms\tremaining: 19.5s\n",
      "44:\ttest: 0.7527282\tbest: 0.7574405 (15)\ttotal: 911ms\tremaining: 19.3s\n",
      "45:\ttest: 0.7515501\tbest: 0.7574405 (15)\ttotal: 926ms\tremaining: 19.2s\n",
      "46:\ttest: 0.7536582\tbest: 0.7574405 (15)\ttotal: 947ms\tremaining: 19.2s\n",
      "47:\ttest: 0.7537822\tbest: 0.7574405 (15)\ttotal: 965ms\tremaining: 19.1s\n",
      "48:\ttest: 0.7548983\tbest: 0.7574405 (15)\ttotal: 984ms\tremaining: 19.1s\n",
      "49:\ttest: 0.7556424\tbest: 0.7574405 (15)\ttotal: 1000ms\tremaining: 19s\n",
      "50:\ttest: 0.7551463\tbest: 0.7574405 (15)\ttotal: 1.02s\tremaining: 19s\n",
      "51:\ttest: 0.7556424\tbest: 0.7574405 (15)\ttotal: 1.03s\tremaining: 18.9s\n",
      "52:\ttest: 0.7542783\tbest: 0.7574405 (15)\ttotal: 1.05s\tremaining: 18.8s\n",
      "53:\ttest: 0.7529142\tbest: 0.7574405 (15)\ttotal: 1.07s\tremaining: 18.7s\n",
      "54:\ttest: 0.7531622\tbest: 0.7574405 (15)\ttotal: 1.08s\tremaining: 18.6s\n",
      "55:\ttest: 0.7552703\tbest: 0.7574405 (15)\ttotal: 1.1s\tremaining: 18.5s\n",
      "56:\ttest: 0.7570064\tbest: 0.7574405 (15)\ttotal: 1.12s\tremaining: 18.5s\n",
      "57:\ttest: 0.7576265\tbest: 0.7576265 (57)\ttotal: 1.13s\tremaining: 18.4s\n",
      "58:\ttest: 0.7557664\tbest: 0.7576265 (57)\ttotal: 1.15s\tremaining: 18.4s\n",
      "59:\ttest: 0.7535342\tbest: 0.7576265 (57)\ttotal: 1.17s\tremaining: 18.3s\n",
      "60:\ttest: 0.7552703\tbest: 0.7576265 (57)\ttotal: 1.19s\tremaining: 18.2s\n",
      "61:\ttest: 0.7560144\tbest: 0.7576265 (57)\ttotal: 1.2s\tremaining: 18.1s\n",
      "62:\ttest: 0.7561384\tbest: 0.7576265 (57)\ttotal: 1.21s\tremaining: 18.1s\n",
      "63:\ttest: 0.7567584\tbest: 0.7576265 (57)\ttotal: 1.23s\tremaining: 18s\n",
      "64:\ttest: 0.7571305\tbest: 0.7576265 (57)\ttotal: 1.24s\tremaining: 17.9s\n",
      "65:\ttest: 0.7555184\tbest: 0.7576265 (57)\ttotal: 1.26s\tremaining: 17.8s\n",
      "66:\ttest: 0.7556424\tbest: 0.7576265 (57)\ttotal: 1.27s\tremaining: 17.8s\n",
      "67:\ttest: 0.7550223\tbest: 0.7576265 (57)\ttotal: 1.29s\tremaining: 17.7s\n",
      "68:\ttest: 0.7556424\tbest: 0.7576265 (57)\ttotal: 1.3s\tremaining: 17.6s\n",
      "69:\ttest: 0.7568824\tbest: 0.7576265 (57)\ttotal: 1.32s\tremaining: 17.5s\n",
      "70:\ttest: 0.7579985\tbest: 0.7579985 (70)\ttotal: 1.33s\tremaining: 17.4s\n",
      "71:\ttest: 0.7583705\tbest: 0.7583705 (71)\ttotal: 1.35s\tremaining: 17.4s\n",
      "72:\ttest: 0.7592386\tbest: 0.7592386 (72)\ttotal: 1.37s\tremaining: 17.4s\n",
      "73:\ttest: 0.7601066\tbest: 0.7601066 (73)\ttotal: 1.39s\tremaining: 17.3s\n",
      "74:\ttest: 0.7593626\tbest: 0.7601066 (73)\ttotal: 1.4s\tremaining: 17.3s\n",
      "75:\ttest: 0.7582465\tbest: 0.7601066 (73)\ttotal: 1.42s\tremaining: 17.3s\n",
      "76:\ttest: 0.7592386\tbest: 0.7601066 (73)\ttotal: 1.44s\tremaining: 17.2s\n",
      "77:\ttest: 0.7589906\tbest: 0.7601066 (73)\ttotal: 1.45s\tremaining: 17.2s\n",
      "78:\ttest: 0.7577505\tbest: 0.7601066 (73)\ttotal: 1.47s\tremaining: 17.1s\n",
      "79:\ttest: 0.7576265\tbest: 0.7601066 (73)\ttotal: 1.47s\tremaining: 16.9s\n",
      "80:\ttest: 0.7576265\tbest: 0.7601066 (73)\ttotal: 1.48s\tremaining: 16.8s\n",
      "81:\ttest: 0.7561384\tbest: 0.7601066 (73)\ttotal: 1.5s\tremaining: 16.8s\n",
      "82:\ttest: 0.7561384\tbest: 0.7601066 (73)\ttotal: 1.51s\tremaining: 16.7s\n",
      "83:\ttest: 0.7552703\tbest: 0.7601066 (73)\ttotal: 1.53s\tremaining: 16.7s\n",
      "84:\ttest: 0.7555184\tbest: 0.7601066 (73)\ttotal: 1.54s\tremaining: 16.6s\n",
      "85:\ttest: 0.7552703\tbest: 0.7601066 (73)\ttotal: 1.56s\tremaining: 16.6s\n",
      "86:\ttest: 0.7553943\tbest: 0.7601066 (73)\ttotal: 1.58s\tremaining: 16.6s\n",
      "87:\ttest: 0.7551463\tbest: 0.7601066 (73)\ttotal: 1.6s\tremaining: 16.6s\n",
      "88:\ttest: 0.7547743\tbest: 0.7601066 (73)\ttotal: 1.61s\tremaining: 16.5s\n",
      "89:\ttest: 0.7545263\tbest: 0.7601066 (73)\ttotal: 1.63s\tremaining: 16.5s\n",
      "90:\ttest: 0.7552703\tbest: 0.7601066 (73)\ttotal: 1.65s\tremaining: 16.5s\n",
      "91:\ttest: 0.7550223\tbest: 0.7601066 (73)\ttotal: 1.67s\tremaining: 16.5s\n",
      "92:\ttest: 0.7551463\tbest: 0.7601066 (73)\ttotal: 1.7s\tremaining: 16.6s\n",
      "93:\ttest: 0.7551463\tbest: 0.7601066 (73)\ttotal: 1.74s\tremaining: 16.8s\n",
      "94:\ttest: 0.7555184\tbest: 0.7601066 (73)\ttotal: 1.79s\tremaining: 17s\n",
      "95:\ttest: 0.7556424\tbest: 0.7601066 (73)\ttotal: 1.82s\tremaining: 17.1s\n",
      "96:\ttest: 0.7563864\tbest: 0.7601066 (73)\ttotal: 1.84s\tremaining: 17.2s\n",
      "97:\ttest: 0.7572545\tbest: 0.7601066 (73)\ttotal: 1.85s\tremaining: 17s\n",
      "98:\ttest: 0.7556424\tbest: 0.7601066 (73)\ttotal: 1.87s\tremaining: 17s\n",
      "99:\ttest: 0.7555184\tbest: 0.7601066 (73)\ttotal: 1.89s\tremaining: 17s\n",
      "100:\ttest: 0.7558904\tbest: 0.7601066 (73)\ttotal: 1.91s\tremaining: 17s\n",
      "101:\ttest: 0.7560144\tbest: 0.7601066 (73)\ttotal: 1.93s\tremaining: 17s\n",
      "102:\ttest: 0.7565104\tbest: 0.7601066 (73)\ttotal: 1.95s\tremaining: 17s\n",
      "103:\ttest: 0.7550223\tbest: 0.7601066 (73)\ttotal: 1.97s\tremaining: 17s\n",
      "104:\ttest: 0.7550223\tbest: 0.7601066 (73)\ttotal: 1.99s\tremaining: 17s\n",
      "105:\ttest: 0.7540303\tbest: 0.7601066 (73)\ttotal: 2.02s\tremaining: 17.1s\n",
      "106:\ttest: 0.7545263\tbest: 0.7601066 (73)\ttotal: 2.04s\tremaining: 17s\n",
      "107:\ttest: 0.7544023\tbest: 0.7601066 (73)\ttotal: 2.07s\tremaining: 17.1s\n",
      "108:\ttest: 0.7545263\tbest: 0.7601066 (73)\ttotal: 2.09s\tremaining: 17.1s\n",
      "109:\ttest: 0.7542783\tbest: 0.7601066 (73)\ttotal: 2.1s\tremaining: 17s\n",
      "110:\ttest: 0.7539063\tbest: 0.7601066 (73)\ttotal: 2.12s\tremaining: 17s\n",
      "111:\ttest: 0.7545263\tbest: 0.7601066 (73)\ttotal: 2.15s\tremaining: 17s\n",
      "112:\ttest: 0.7537822\tbest: 0.7601066 (73)\ttotal: 2.17s\tremaining: 17s\n",
      "113:\ttest: 0.7541543\tbest: 0.7601066 (73)\ttotal: 2.19s\tremaining: 17s\n",
      "114:\ttest: 0.7535342\tbest: 0.7601066 (73)\ttotal: 2.21s\tremaining: 17s\n",
      "115:\ttest: 0.7532862\tbest: 0.7601066 (73)\ttotal: 2.23s\tremaining: 17s\n",
      "116:\ttest: 0.7535342\tbest: 0.7601066 (73)\ttotal: 2.24s\tremaining: 16.9s\n",
      "117:\ttest: 0.7553943\tbest: 0.7601066 (73)\ttotal: 2.27s\tremaining: 16.9s\n",
      "118:\ttest: 0.7555184\tbest: 0.7601066 (73)\ttotal: 2.28s\tremaining: 16.9s\n",
      "119:\ttest: 0.7553943\tbest: 0.7601066 (73)\ttotal: 2.3s\tremaining: 16.9s\n",
      "120:\ttest: 0.7551463\tbest: 0.7601066 (73)\ttotal: 2.32s\tremaining: 16.9s\n",
      "121:\ttest: 0.7546503\tbest: 0.7601066 (73)\ttotal: 2.35s\tremaining: 16.9s\n",
      "122:\ttest: 0.7550223\tbest: 0.7601066 (73)\ttotal: 2.37s\tremaining: 16.9s\n",
      "123:\ttest: 0.7546503\tbest: 0.7601066 (73)\ttotal: 2.4s\tremaining: 16.9s\n",
      "124:\ttest: 0.7536582\tbest: 0.7601066 (73)\ttotal: 2.42s\tremaining: 17s\n",
      "125:\ttest: 0.7540303\tbest: 0.7601066 (73)\ttotal: 2.45s\tremaining: 17s\n",
      "126:\ttest: 0.7552703\tbest: 0.7601066 (73)\ttotal: 2.47s\tremaining: 17s\n",
      "127:\ttest: 0.7542783\tbest: 0.7601066 (73)\ttotal: 2.49s\tremaining: 17s\n",
      "128:\ttest: 0.7546503\tbest: 0.7601066 (73)\ttotal: 2.51s\tremaining: 17s\n",
      "129:\ttest: 0.7548983\tbest: 0.7601066 (73)\ttotal: 2.53s\tremaining: 16.9s\n",
      "130:\ttest: 0.7531622\tbest: 0.7601066 (73)\ttotal: 2.56s\tremaining: 17s\n",
      "131:\ttest: 0.7529142\tbest: 0.7601066 (73)\ttotal: 2.58s\tremaining: 16.9s\n",
      "132:\ttest: 0.7532862\tbest: 0.7601066 (73)\ttotal: 2.59s\tremaining: 16.9s\n",
      "133:\ttest: 0.7544023\tbest: 0.7601066 (73)\ttotal: 2.61s\tremaining: 16.9s\n",
      "134:\ttest: 0.7540303\tbest: 0.7601066 (73)\ttotal: 2.63s\tremaining: 16.9s\n",
      "135:\ttest: 0.7544023\tbest: 0.7601066 (73)\ttotal: 2.63s\tremaining: 16.7s\n",
      "136:\ttest: 0.7541543\tbest: 0.7601066 (73)\ttotal: 2.67s\tremaining: 16.8s\n",
      "137:\ttest: 0.7537822\tbest: 0.7601066 (73)\ttotal: 2.7s\tremaining: 16.9s\n",
      "138:\ttest: 0.7530382\tbest: 0.7601066 (73)\ttotal: 2.73s\tremaining: 16.9s\n",
      "139:\ttest: 0.7530382\tbest: 0.7601066 (73)\ttotal: 2.76s\tremaining: 17s\n",
      "140:\ttest: 0.7531622\tbest: 0.7601066 (73)\ttotal: 2.8s\tremaining: 17.1s\n",
      "141:\ttest: 0.7540303\tbest: 0.7601066 (73)\ttotal: 2.84s\tremaining: 17.1s\n",
      "142:\ttest: 0.7548363\tbest: 0.7601066 (73)\ttotal: 2.88s\tremaining: 17.2s\n",
      "143:\ttest: 0.7552083\tbest: 0.7601066 (73)\ttotal: 2.9s\tremaining: 17.3s\n",
      "144:\ttest: 0.7555804\tbest: 0.7601066 (73)\ttotal: 2.93s\tremaining: 17.3s\n",
      "145:\ttest: 0.7544643\tbest: 0.7601066 (73)\ttotal: 2.96s\tremaining: 17.3s\n",
      "146:\ttest: 0.7543403\tbest: 0.7601066 (73)\ttotal: 2.98s\tremaining: 17.3s\n",
      "147:\ttest: 0.7543403\tbest: 0.7601066 (73)\ttotal: 3s\tremaining: 17.3s\n",
      "148:\ttest: 0.7540923\tbest: 0.7601066 (73)\ttotal: 3.02s\tremaining: 17.3s\n",
      "149:\ttest: 0.7543403\tbest: 0.7601066 (73)\ttotal: 3.04s\tremaining: 17.3s\n",
      "150:\ttest: 0.7552083\tbest: 0.7601066 (73)\ttotal: 3.07s\tremaining: 17.3s\n",
      "151:\ttest: 0.7558284\tbest: 0.7601066 (73)\ttotal: 3.09s\tremaining: 17.3s\n",
      "152:\ttest: 0.7575645\tbest: 0.7601066 (73)\ttotal: 3.11s\tremaining: 17.2s\n",
      "153:\ttest: 0.7573165\tbest: 0.7601066 (73)\ttotal: 3.13s\tremaining: 17.2s\n",
      "154:\ttest: 0.7590526\tbest: 0.7601066 (73)\ttotal: 3.15s\tremaining: 17.2s\n",
      "155:\ttest: 0.7593006\tbest: 0.7601066 (73)\ttotal: 3.17s\tremaining: 17.1s\n",
      "156:\ttest: 0.7593006\tbest: 0.7601066 (73)\ttotal: 3.19s\tremaining: 17.1s\n",
      "157:\ttest: 0.7595486\tbest: 0.7601066 (73)\ttotal: 3.21s\tremaining: 17.1s\n",
      "158:\ttest: 0.7591766\tbest: 0.7601066 (73)\ttotal: 3.23s\tremaining: 17.1s\n",
      "159:\ttest: 0.7591766\tbest: 0.7601066 (73)\ttotal: 3.25s\tremaining: 17.1s\n",
      "160:\ttest: 0.7593006\tbest: 0.7601066 (73)\ttotal: 3.27s\tremaining: 17s\n",
      "161:\ttest: 0.7602927\tbest: 0.7602927 (161)\ttotal: 3.29s\tremaining: 17s\n",
      "162:\ttest: 0.7605407\tbest: 0.7605407 (162)\ttotal: 3.31s\tremaining: 17s\n",
      "163:\ttest: 0.7605407\tbest: 0.7605407 (162)\ttotal: 3.32s\tremaining: 16.9s\n",
      "164:\ttest: 0.7594246\tbest: 0.7605407 (162)\ttotal: 3.34s\tremaining: 16.9s\n",
      "165:\ttest: 0.7585565\tbest: 0.7605407 (162)\ttotal: 3.35s\tremaining: 16.9s\n",
      "166:\ttest: 0.7597966\tbest: 0.7605407 (162)\ttotal: 3.37s\tremaining: 16.8s\n",
      "167:\ttest: 0.7602927\tbest: 0.7605407 (162)\ttotal: 3.39s\tremaining: 16.8s\n",
      "168:\ttest: 0.7606647\tbest: 0.7606647 (168)\ttotal: 3.4s\tremaining: 16.7s\n",
      "169:\ttest: 0.7615327\tbest: 0.7615327 (169)\ttotal: 3.43s\tremaining: 16.7s\n",
      "170:\ttest: 0.7622768\tbest: 0.7622768 (170)\ttotal: 3.44s\tremaining: 16.7s\n",
      "171:\ttest: 0.7616567\tbest: 0.7622768 (170)\ttotal: 3.46s\tremaining: 16.7s\n",
      "172:\ttest: 0.7616567\tbest: 0.7622768 (170)\ttotal: 3.49s\tremaining: 16.7s\n",
      "173:\ttest: 0.7611607\tbest: 0.7622768 (170)\ttotal: 3.51s\tremaining: 16.6s\n",
      "174:\ttest: 0.7611607\tbest: 0.7622768 (170)\ttotal: 3.53s\tremaining: 16.6s\n",
      "175:\ttest: 0.7622768\tbest: 0.7622768 (170)\ttotal: 3.54s\tremaining: 16.6s\n",
      "176:\ttest: 0.7622768\tbest: 0.7622768 (170)\ttotal: 3.56s\tremaining: 16.6s\n",
      "177:\ttest: 0.7607887\tbest: 0.7622768 (170)\ttotal: 3.57s\tremaining: 16.5s\n",
      "178:\ttest: 0.7610367\tbest: 0.7622768 (170)\ttotal: 3.59s\tremaining: 16.5s\n",
      "179:\ttest: 0.7615327\tbest: 0.7622768 (170)\ttotal: 3.61s\tremaining: 16.4s\n",
      "180:\ttest: 0.7611607\tbest: 0.7622768 (170)\ttotal: 3.62s\tremaining: 16.4s\n",
      "181:\ttest: 0.7611607\tbest: 0.7622768 (170)\ttotal: 3.63s\tremaining: 16.3s\n",
      "182:\ttest: 0.7611607\tbest: 0.7622768 (170)\ttotal: 3.63s\tremaining: 16.2s\n",
      "183:\ttest: 0.7617808\tbest: 0.7622768 (170)\ttotal: 3.65s\tremaining: 16.2s\n",
      "184:\ttest: 0.7611607\tbest: 0.7622768 (170)\ttotal: 3.67s\tremaining: 16.2s\n",
      "185:\ttest: 0.7615327\tbest: 0.7622768 (170)\ttotal: 3.69s\tremaining: 16.2s\n",
      "186:\ttest: 0.7614087\tbest: 0.7622768 (170)\ttotal: 3.71s\tremaining: 16.1s\n",
      "187:\ttest: 0.7626488\tbest: 0.7626488 (187)\ttotal: 3.74s\tremaining: 16.1s\n",
      "188:\ttest: 0.7621528\tbest: 0.7626488 (187)\ttotal: 3.76s\tremaining: 16.1s\n",
      "189:\ttest: 0.7622768\tbest: 0.7626488 (187)\ttotal: 3.78s\tremaining: 16.1s\n",
      "190:\ttest: 0.7616567\tbest: 0.7626488 (187)\ttotal: 3.79s\tremaining: 16.1s\n",
      "191:\ttest: 0.7626488\tbest: 0.7626488 (187)\ttotal: 3.81s\tremaining: 16s\n",
      "192:\ttest: 0.7625248\tbest: 0.7626488 (187)\ttotal: 3.83s\tremaining: 16s\n",
      "193:\ttest: 0.7619048\tbest: 0.7626488 (187)\ttotal: 3.85s\tremaining: 16s\n",
      "194:\ttest: 0.7620288\tbest: 0.7626488 (187)\ttotal: 3.86s\tremaining: 15.9s\n",
      "195:\ttest: 0.7621528\tbest: 0.7626488 (187)\ttotal: 3.88s\tremaining: 15.9s\n",
      "196:\ttest: 0.7621528\tbest: 0.7626488 (187)\ttotal: 3.88s\tremaining: 15.8s\n",
      "197:\ttest: 0.7614087\tbest: 0.7626488 (187)\ttotal: 3.9s\tremaining: 15.8s\n",
      "198:\ttest: 0.7614087\tbest: 0.7626488 (187)\ttotal: 3.91s\tremaining: 15.8s\n",
      "199:\ttest: 0.7615327\tbest: 0.7626488 (187)\ttotal: 3.93s\tremaining: 15.7s\n",
      "200:\ttest: 0.7614087\tbest: 0.7626488 (187)\ttotal: 3.95s\tremaining: 15.7s\n",
      "201:\ttest: 0.7625248\tbest: 0.7626488 (187)\ttotal: 3.97s\tremaining: 15.7s\n",
      "202:\ttest: 0.7624008\tbest: 0.7626488 (187)\ttotal: 3.99s\tremaining: 15.7s\n",
      "203:\ttest: 0.7622768\tbest: 0.7626488 (187)\ttotal: 4.01s\tremaining: 15.6s\n",
      "204:\ttest: 0.7620288\tbest: 0.7626488 (187)\ttotal: 4.03s\tremaining: 15.6s\n",
      "205:\ttest: 0.7628968\tbest: 0.7628968 (205)\ttotal: 4.04s\tremaining: 15.6s\n",
      "206:\ttest: 0.7628968\tbest: 0.7628968 (205)\ttotal: 4.06s\tremaining: 15.5s\n",
      "207:\ttest: 0.7625248\tbest: 0.7628968 (205)\ttotal: 4.08s\tremaining: 15.5s\n",
      "208:\ttest: 0.7621528\tbest: 0.7628968 (205)\ttotal: 4.09s\tremaining: 15.5s\n",
      "209:\ttest: 0.7622768\tbest: 0.7628968 (205)\ttotal: 4.11s\tremaining: 15.5s\n",
      "210:\ttest: 0.7631448\tbest: 0.7631448 (210)\ttotal: 4.13s\tremaining: 15.4s\n",
      "211:\ttest: 0.7631448\tbest: 0.7631448 (210)\ttotal: 4.14s\tremaining: 15.4s\n",
      "212:\ttest: 0.7631448\tbest: 0.7631448 (210)\ttotal: 4.16s\tremaining: 15.4s\n",
      "213:\ttest: 0.7633929\tbest: 0.7633929 (213)\ttotal: 4.18s\tremaining: 15.4s\n",
      "214:\ttest: 0.7633929\tbest: 0.7633929 (213)\ttotal: 4.2s\tremaining: 15.3s\n",
      "215:\ttest: 0.7632688\tbest: 0.7633929 (213)\ttotal: 4.2s\tremaining: 15.2s\n",
      "216:\ttest: 0.7636409\tbest: 0.7636409 (216)\ttotal: 4.2s\tremaining: 15.2s\n",
      "217:\ttest: 0.7637649\tbest: 0.7637649 (217)\ttotal: 4.22s\tremaining: 15.1s\n",
      "218:\ttest: 0.7645089\tbest: 0.7645089 (218)\ttotal: 4.23s\tremaining: 15.1s\n",
      "219:\ttest: 0.7650050\tbest: 0.7650050 (219)\ttotal: 4.25s\tremaining: 15.1s\n",
      "220:\ttest: 0.7643849\tbest: 0.7650050 (219)\ttotal: 4.26s\tremaining: 15s\n",
      "221:\ttest: 0.7642609\tbest: 0.7650050 (219)\ttotal: 4.28s\tremaining: 15s\n",
      "222:\ttest: 0.7642609\tbest: 0.7650050 (219)\ttotal: 4.3s\tremaining: 15s\n",
      "223:\ttest: 0.7641369\tbest: 0.7650050 (219)\ttotal: 4.31s\tremaining: 14.9s\n",
      "224:\ttest: 0.7638889\tbest: 0.7650050 (219)\ttotal: 4.33s\tremaining: 14.9s\n",
      "225:\ttest: 0.7645089\tbest: 0.7650050 (219)\ttotal: 4.35s\tremaining: 14.9s\n",
      "226:\ttest: 0.7646329\tbest: 0.7650050 (219)\ttotal: 4.36s\tremaining: 14.9s\n",
      "227:\ttest: 0.7635169\tbest: 0.7650050 (219)\ttotal: 4.38s\tremaining: 14.8s\n",
      "228:\ttest: 0.7637649\tbest: 0.7650050 (219)\ttotal: 4.39s\tremaining: 14.8s\n",
      "229:\ttest: 0.7637649\tbest: 0.7650050 (219)\ttotal: 4.41s\tremaining: 14.8s\n",
      "230:\ttest: 0.7632688\tbest: 0.7650050 (219)\ttotal: 4.42s\tremaining: 14.7s\n",
      "231:\ttest: 0.7637649\tbest: 0.7650050 (219)\ttotal: 4.44s\tremaining: 14.7s\n",
      "232:\ttest: 0.7636409\tbest: 0.7650050 (219)\ttotal: 4.46s\tremaining: 14.7s\n",
      "233:\ttest: 0.7637649\tbest: 0.7650050 (219)\ttotal: 4.48s\tremaining: 14.7s\n",
      "234:\ttest: 0.7637649\tbest: 0.7650050 (219)\ttotal: 4.48s\tremaining: 14.6s\n",
      "235:\ttest: 0.7635169\tbest: 0.7650050 (219)\ttotal: 4.5s\tremaining: 14.6s\n",
      "236:\ttest: 0.7633929\tbest: 0.7650050 (219)\ttotal: 4.52s\tremaining: 14.6s\n",
      "237:\ttest: 0.7628968\tbest: 0.7650050 (219)\ttotal: 4.54s\tremaining: 14.5s\n",
      "238:\ttest: 0.7638889\tbest: 0.7650050 (219)\ttotal: 4.55s\tremaining: 14.5s\n",
      "239:\ttest: 0.7637649\tbest: 0.7650050 (219)\ttotal: 4.55s\tremaining: 14.4s\n",
      "240:\ttest: 0.7638889\tbest: 0.7650050 (219)\ttotal: 4.57s\tremaining: 14.4s\n",
      "241:\ttest: 0.7633929\tbest: 0.7650050 (219)\ttotal: 4.59s\tremaining: 14.4s\n",
      "242:\ttest: 0.7624008\tbest: 0.7650050 (219)\ttotal: 4.6s\tremaining: 14.3s\n",
      "243:\ttest: 0.7617808\tbest: 0.7650050 (219)\ttotal: 4.62s\tremaining: 14.3s\n",
      "244:\ttest: 0.7620288\tbest: 0.7650050 (219)\ttotal: 4.63s\tremaining: 14.3s\n",
      "245:\ttest: 0.7619048\tbest: 0.7650050 (219)\ttotal: 4.65s\tremaining: 14.3s\n",
      "246:\ttest: 0.7620288\tbest: 0.7650050 (219)\ttotal: 4.67s\tremaining: 14.2s\n",
      "247:\ttest: 0.7619048\tbest: 0.7650050 (219)\ttotal: 4.68s\tremaining: 14.2s\n",
      "248:\ttest: 0.7619048\tbest: 0.7650050 (219)\ttotal: 4.7s\tremaining: 14.2s\n",
      "249:\ttest: 0.7619048\tbest: 0.7650050 (219)\ttotal: 4.71s\tremaining: 14.1s\n",
      "250:\ttest: 0.7619048\tbest: 0.7650050 (219)\ttotal: 4.73s\tremaining: 14.1s\n",
      "251:\ttest: 0.7621528\tbest: 0.7650050 (219)\ttotal: 4.75s\tremaining: 14.1s\n",
      "252:\ttest: 0.7625248\tbest: 0.7650050 (219)\ttotal: 4.76s\tremaining: 14.1s\n",
      "253:\ttest: 0.7627728\tbest: 0.7650050 (219)\ttotal: 4.78s\tremaining: 14s\n",
      "254:\ttest: 0.7628968\tbest: 0.7650050 (219)\ttotal: 4.78s\tremaining: 14s\n",
      "255:\ttest: 0.7625248\tbest: 0.7650050 (219)\ttotal: 4.8s\tremaining: 13.9s\n",
      "256:\ttest: 0.7624008\tbest: 0.7650050 (219)\ttotal: 4.81s\tremaining: 13.9s\n",
      "257:\ttest: 0.7621528\tbest: 0.7650050 (219)\ttotal: 4.83s\tremaining: 13.9s\n",
      "258:\ttest: 0.7620288\tbest: 0.7650050 (219)\ttotal: 4.84s\tremaining: 13.9s\n",
      "259:\ttest: 0.7627728\tbest: 0.7650050 (219)\ttotal: 4.86s\tremaining: 13.8s\n",
      "260:\ttest: 0.7622768\tbest: 0.7650050 (219)\ttotal: 4.87s\tremaining: 13.8s\n",
      "261:\ttest: 0.7622768\tbest: 0.7650050 (219)\ttotal: 4.89s\tremaining: 13.8s\n",
      "262:\ttest: 0.7624008\tbest: 0.7650050 (219)\ttotal: 4.91s\tremaining: 13.7s\n",
      "263:\ttest: 0.7626488\tbest: 0.7650050 (219)\ttotal: 4.92s\tremaining: 13.7s\n",
      "264:\ttest: 0.7622768\tbest: 0.7650050 (219)\ttotal: 4.94s\tremaining: 13.7s\n",
      "265:\ttest: 0.7624008\tbest: 0.7650050 (219)\ttotal: 4.94s\tremaining: 13.6s\n",
      "266:\ttest: 0.7624008\tbest: 0.7650050 (219)\ttotal: 4.96s\tremaining: 13.6s\n",
      "267:\ttest: 0.7622768\tbest: 0.7650050 (219)\ttotal: 4.97s\tremaining: 13.6s\n",
      "268:\ttest: 0.7625248\tbest: 0.7650050 (219)\ttotal: 4.98s\tremaining: 13.5s\n",
      "269:\ttest: 0.7631448\tbest: 0.7650050 (219)\ttotal: 5s\tremaining: 13.5s\n",
      "270:\ttest: 0.7624008\tbest: 0.7650050 (219)\ttotal: 5.02s\tremaining: 13.5s\n",
      "271:\ttest: 0.7628968\tbest: 0.7650050 (219)\ttotal: 5.04s\tremaining: 13.5s\n",
      "272:\ttest: 0.7633929\tbest: 0.7650050 (219)\ttotal: 5.05s\tremaining: 13.5s\n",
      "273:\ttest: 0.7631448\tbest: 0.7650050 (219)\ttotal: 5.07s\tremaining: 13.4s\n",
      "274:\ttest: 0.7635169\tbest: 0.7650050 (219)\ttotal: 5.09s\tremaining: 13.4s\n",
      "275:\ttest: 0.7637649\tbest: 0.7650050 (219)\ttotal: 5.11s\tremaining: 13.4s\n",
      "276:\ttest: 0.7636409\tbest: 0.7650050 (219)\ttotal: 5.13s\tremaining: 13.4s\n",
      "277:\ttest: 0.7635169\tbest: 0.7650050 (219)\ttotal: 5.15s\tremaining: 13.4s\n",
      "278:\ttest: 0.7637649\tbest: 0.7650050 (219)\ttotal: 5.16s\tremaining: 13.3s\n",
      "279:\ttest: 0.7641369\tbest: 0.7650050 (219)\ttotal: 5.18s\tremaining: 13.3s\n",
      "280:\ttest: 0.7637649\tbest: 0.7650050 (219)\ttotal: 5.2s\tremaining: 13.3s\n",
      "281:\ttest: 0.7643849\tbest: 0.7650050 (219)\ttotal: 5.21s\tremaining: 13.3s\n",
      "282:\ttest: 0.7650050\tbest: 0.7650050 (219)\ttotal: 5.23s\tremaining: 13.2s\n",
      "283:\ttest: 0.7647569\tbest: 0.7650050 (219)\ttotal: 5.24s\tremaining: 13.2s\n",
      "284:\ttest: 0.7655010\tbest: 0.7655010 (284)\ttotal: 5.26s\tremaining: 13.2s\n",
      "285:\ttest: 0.7657490\tbest: 0.7657490 (285)\ttotal: 5.28s\tremaining: 13.2s\n",
      "286:\ttest: 0.7652530\tbest: 0.7657490 (285)\ttotal: 5.29s\tremaining: 13.2s\n",
      "287:\ttest: 0.7655010\tbest: 0.7657490 (285)\ttotal: 5.31s\tremaining: 13.1s\n",
      "288:\ttest: 0.7677331\tbest: 0.7677331 (288)\ttotal: 5.33s\tremaining: 13.1s\n",
      "289:\ttest: 0.7672371\tbest: 0.7677331 (288)\ttotal: 5.34s\tremaining: 13.1s\n",
      "290:\ttest: 0.7673611\tbest: 0.7677331 (288)\ttotal: 5.36s\tremaining: 13s\n",
      "291:\ttest: 0.7678571\tbest: 0.7678571 (291)\ttotal: 5.37s\tremaining: 13s\n",
      "292:\ttest: 0.7678571\tbest: 0.7678571 (291)\ttotal: 5.39s\tremaining: 13s\n",
      "293:\ttest: 0.7657490\tbest: 0.7678571 (291)\ttotal: 5.41s\tremaining: 13s\n",
      "294:\ttest: 0.7653770\tbest: 0.7678571 (291)\ttotal: 5.41s\tremaining: 12.9s\n",
      "295:\ttest: 0.7652530\tbest: 0.7678571 (291)\ttotal: 5.42s\tremaining: 12.9s\n",
      "296:\ttest: 0.7679812\tbest: 0.7679812 (296)\ttotal: 5.44s\tremaining: 12.9s\n",
      "297:\ttest: 0.7681052\tbest: 0.7681052 (297)\ttotal: 5.46s\tremaining: 12.9s\n",
      "298:\ttest: 0.7681052\tbest: 0.7681052 (297)\ttotal: 5.47s\tremaining: 12.8s\n",
      "299:\ttest: 0.7679812\tbest: 0.7681052 (297)\ttotal: 5.49s\tremaining: 12.8s\n",
      "300:\ttest: 0.7679812\tbest: 0.7681052 (297)\ttotal: 5.51s\tremaining: 12.8s\n",
      "301:\ttest: 0.7674851\tbest: 0.7681052 (297)\ttotal: 5.52s\tremaining: 12.8s\n",
      "302:\ttest: 0.7673611\tbest: 0.7681052 (297)\ttotal: 5.53s\tremaining: 12.7s\n",
      "303:\ttest: 0.7671131\tbest: 0.7681052 (297)\ttotal: 5.55s\tremaining: 12.7s\n",
      "304:\ttest: 0.7676091\tbest: 0.7681052 (297)\ttotal: 5.57s\tremaining: 12.7s\n",
      "305:\ttest: 0.7681052\tbest: 0.7681052 (297)\ttotal: 5.58s\tremaining: 12.7s\n",
      "306:\ttest: 0.7679812\tbest: 0.7681052 (297)\ttotal: 5.6s\tremaining: 12.6s\n",
      "307:\ttest: 0.7679812\tbest: 0.7681052 (297)\ttotal: 5.61s\tremaining: 12.6s\n",
      "308:\ttest: 0.7679812\tbest: 0.7681052 (297)\ttotal: 5.62s\tremaining: 12.6s\n",
      "309:\ttest: 0.7676091\tbest: 0.7681052 (297)\ttotal: 5.63s\tremaining: 12.5s\n",
      "310:\ttest: 0.7676091\tbest: 0.7681052 (297)\ttotal: 5.65s\tremaining: 12.5s\n",
      "311:\ttest: 0.7674851\tbest: 0.7681052 (297)\ttotal: 5.66s\tremaining: 12.5s\n",
      "312:\ttest: 0.7676091\tbest: 0.7681052 (297)\ttotal: 5.68s\tremaining: 12.5s\n",
      "313:\ttest: 0.7676091\tbest: 0.7681052 (297)\ttotal: 5.7s\tremaining: 12.4s\n",
      "314:\ttest: 0.7673611\tbest: 0.7681052 (297)\ttotal: 5.71s\tremaining: 12.4s\n",
      "315:\ttest: 0.7673611\tbest: 0.7681052 (297)\ttotal: 5.72s\tremaining: 12.4s\n",
      "316:\ttest: 0.7687252\tbest: 0.7687252 (316)\ttotal: 5.74s\tremaining: 12.4s\n",
      "317:\ttest: 0.7686012\tbest: 0.7687252 (316)\ttotal: 5.76s\tremaining: 12.4s\n",
      "318:\ttest: 0.7686012\tbest: 0.7687252 (316)\ttotal: 5.77s\tremaining: 12.3s\n",
      "319:\ttest: 0.7694692\tbest: 0.7694692 (319)\ttotal: 5.79s\tremaining: 12.3s\n",
      "320:\ttest: 0.7699653\tbest: 0.7699653 (320)\ttotal: 5.81s\tremaining: 12.3s\n",
      "321:\ttest: 0.7699653\tbest: 0.7699653 (320)\ttotal: 5.83s\tremaining: 12.3s\n",
      "322:\ttest: 0.7699653\tbest: 0.7699653 (320)\ttotal: 5.84s\tremaining: 12.2s\n",
      "323:\ttest: 0.7703373\tbest: 0.7703373 (323)\ttotal: 5.84s\tremaining: 12.2s\n",
      "324:\ttest: 0.7700893\tbest: 0.7703373 (323)\ttotal: 5.86s\tremaining: 12.2s\n",
      "325:\ttest: 0.7695933\tbest: 0.7703373 (323)\ttotal: 5.88s\tremaining: 12.2s\n",
      "326:\ttest: 0.7687252\tbest: 0.7703373 (323)\ttotal: 5.89s\tremaining: 12.1s\n",
      "327:\ttest: 0.7694692\tbest: 0.7703373 (323)\ttotal: 5.91s\tremaining: 12.1s\n",
      "328:\ttest: 0.7698413\tbest: 0.7703373 (323)\ttotal: 5.93s\tremaining: 12.1s\n",
      "329:\ttest: 0.7698413\tbest: 0.7703373 (323)\ttotal: 5.94s\tremaining: 12.1s\n",
      "330:\ttest: 0.7708333\tbest: 0.7708333 (330)\ttotal: 5.96s\tremaining: 12s\n",
      "331:\ttest: 0.7705853\tbest: 0.7708333 (330)\ttotal: 5.97s\tremaining: 12s\n",
      "332:\ttest: 0.7704613\tbest: 0.7708333 (330)\ttotal: 5.99s\tremaining: 12s\n",
      "333:\ttest: 0.7699653\tbest: 0.7708333 (330)\ttotal: 6.01s\tremaining: 12s\n",
      "334:\ttest: 0.7686012\tbest: 0.7708333 (330)\ttotal: 6.02s\tremaining: 12s\n",
      "335:\ttest: 0.7694692\tbest: 0.7708333 (330)\ttotal: 6.04s\tremaining: 11.9s\n",
      "336:\ttest: 0.7697173\tbest: 0.7708333 (330)\ttotal: 6.06s\tremaining: 11.9s\n",
      "337:\ttest: 0.7702133\tbest: 0.7708333 (330)\ttotal: 6.07s\tremaining: 11.9s\n",
      "338:\ttest: 0.7694692\tbest: 0.7708333 (330)\ttotal: 6.09s\tremaining: 11.9s\n",
      "339:\ttest: 0.7698413\tbest: 0.7708333 (330)\ttotal: 6.1s\tremaining: 11.8s\n",
      "340:\ttest: 0.7694692\tbest: 0.7708333 (330)\ttotal: 6.12s\tremaining: 11.8s\n",
      "341:\ttest: 0.7700893\tbest: 0.7708333 (330)\ttotal: 6.13s\tremaining: 11.8s\n",
      "342:\ttest: 0.7702133\tbest: 0.7708333 (330)\ttotal: 6.15s\tremaining: 11.8s\n",
      "343:\ttest: 0.7707093\tbest: 0.7708333 (330)\ttotal: 6.17s\tremaining: 11.8s\n",
      "344:\ttest: 0.7705853\tbest: 0.7708333 (330)\ttotal: 6.18s\tremaining: 11.7s\n",
      "345:\ttest: 0.7702133\tbest: 0.7708333 (330)\ttotal: 6.2s\tremaining: 11.7s\n",
      "346:\ttest: 0.7703373\tbest: 0.7708333 (330)\ttotal: 6.22s\tremaining: 11.7s\n",
      "347:\ttest: 0.7705853\tbest: 0.7708333 (330)\ttotal: 6.23s\tremaining: 11.7s\n",
      "348:\ttest: 0.7707093\tbest: 0.7708333 (330)\ttotal: 6.25s\tremaining: 11.7s\n",
      "349:\ttest: 0.7704613\tbest: 0.7708333 (330)\ttotal: 6.26s\tremaining: 11.6s\n",
      "350:\ttest: 0.7699653\tbest: 0.7708333 (330)\ttotal: 6.28s\tremaining: 11.6s\n",
      "351:\ttest: 0.7699653\tbest: 0.7708333 (330)\ttotal: 6.3s\tremaining: 11.6s\n",
      "352:\ttest: 0.7704613\tbest: 0.7708333 (330)\ttotal: 6.31s\tremaining: 11.6s\n",
      "353:\ttest: 0.7703373\tbest: 0.7708333 (330)\ttotal: 6.33s\tremaining: 11.6s\n",
      "354:\ttest: 0.7697173\tbest: 0.7708333 (330)\ttotal: 6.33s\tremaining: 11.5s\n",
      "355:\ttest: 0.7700893\tbest: 0.7708333 (330)\ttotal: 6.35s\tremaining: 11.5s\n",
      "356:\ttest: 0.7702133\tbest: 0.7708333 (330)\ttotal: 6.37s\tremaining: 11.5s\n",
      "357:\ttest: 0.7699653\tbest: 0.7708333 (330)\ttotal: 6.38s\tremaining: 11.4s\n",
      "358:\ttest: 0.7703373\tbest: 0.7708333 (330)\ttotal: 6.4s\tremaining: 11.4s\n",
      "359:\ttest: 0.7703373\tbest: 0.7708333 (330)\ttotal: 6.42s\tremaining: 11.4s\n",
      "360:\ttest: 0.7702133\tbest: 0.7708333 (330)\ttotal: 6.42s\tremaining: 11.4s\n",
      "361:\ttest: 0.7703373\tbest: 0.7708333 (330)\ttotal: 6.44s\tremaining: 11.4s\n",
      "362:\ttest: 0.7698413\tbest: 0.7708333 (330)\ttotal: 6.46s\tremaining: 11.3s\n",
      "363:\ttest: 0.7698413\tbest: 0.7708333 (330)\ttotal: 6.47s\tremaining: 11.3s\n",
      "364:\ttest: 0.7699653\tbest: 0.7708333 (330)\ttotal: 6.49s\tremaining: 11.3s\n",
      "365:\ttest: 0.7702133\tbest: 0.7708333 (330)\ttotal: 6.5s\tremaining: 11.3s\n",
      "366:\ttest: 0.7699653\tbest: 0.7708333 (330)\ttotal: 6.52s\tremaining: 11.3s\n",
      "367:\ttest: 0.7700893\tbest: 0.7708333 (330)\ttotal: 6.54s\tremaining: 11.2s\n",
      "368:\ttest: 0.7702133\tbest: 0.7708333 (330)\ttotal: 6.55s\tremaining: 11.2s\n",
      "369:\ttest: 0.7700893\tbest: 0.7708333 (330)\ttotal: 6.57s\tremaining: 11.2s\n",
      "370:\ttest: 0.7702133\tbest: 0.7708333 (330)\ttotal: 6.59s\tremaining: 11.2s\n",
      "371:\ttest: 0.7703373\tbest: 0.7708333 (330)\ttotal: 6.6s\tremaining: 11.1s\n",
      "372:\ttest: 0.7702133\tbest: 0.7708333 (330)\ttotal: 6.62s\tremaining: 11.1s\n",
      "373:\ttest: 0.7709573\tbest: 0.7709573 (373)\ttotal: 6.63s\tremaining: 11.1s\n",
      "374:\ttest: 0.7713294\tbest: 0.7713294 (374)\ttotal: 6.65s\tremaining: 11.1s\n",
      "375:\ttest: 0.7714534\tbest: 0.7714534 (375)\ttotal: 6.67s\tremaining: 11.1s\n",
      "376:\ttest: 0.7718254\tbest: 0.7718254 (376)\ttotal: 6.68s\tremaining: 11s\n",
      "377:\ttest: 0.7715774\tbest: 0.7718254 (376)\ttotal: 6.7s\tremaining: 11s\n",
      "378:\ttest: 0.7717014\tbest: 0.7718254 (376)\ttotal: 6.71s\tremaining: 11s\n",
      "379:\ttest: 0.7718254\tbest: 0.7718254 (376)\ttotal: 6.73s\tremaining: 11s\n",
      "380:\ttest: 0.7718254\tbest: 0.7718254 (376)\ttotal: 6.75s\tremaining: 11s\n",
      "381:\ttest: 0.7720734\tbest: 0.7720734 (381)\ttotal: 6.76s\tremaining: 10.9s\n",
      "382:\ttest: 0.7719494\tbest: 0.7720734 (381)\ttotal: 6.78s\tremaining: 10.9s\n",
      "383:\ttest: 0.7721974\tbest: 0.7721974 (383)\ttotal: 6.79s\tremaining: 10.9s\n",
      "384:\ttest: 0.7719494\tbest: 0.7721974 (383)\ttotal: 6.81s\tremaining: 10.9s\n",
      "385:\ttest: 0.7724454\tbest: 0.7724454 (385)\ttotal: 6.83s\tremaining: 10.9s\n",
      "386:\ttest: 0.7725694\tbest: 0.7725694 (386)\ttotal: 6.84s\tremaining: 10.8s\n",
      "387:\ttest: 0.7724454\tbest: 0.7725694 (386)\ttotal: 6.86s\tremaining: 10.8s\n",
      "388:\ttest: 0.7724454\tbest: 0.7725694 (386)\ttotal: 6.88s\tremaining: 10.8s\n",
      "389:\ttest: 0.7723214\tbest: 0.7725694 (386)\ttotal: 6.89s\tremaining: 10.8s\n",
      "390:\ttest: 0.7721974\tbest: 0.7725694 (386)\ttotal: 6.91s\tremaining: 10.8s\n",
      "391:\ttest: 0.7718254\tbest: 0.7725694 (386)\ttotal: 6.92s\tremaining: 10.7s\n",
      "392:\ttest: 0.7719494\tbest: 0.7725694 (386)\ttotal: 6.94s\tremaining: 10.7s\n",
      "393:\ttest: 0.7712054\tbest: 0.7725694 (386)\ttotal: 6.95s\tremaining: 10.7s\n",
      "394:\ttest: 0.7707093\tbest: 0.7725694 (386)\ttotal: 6.97s\tremaining: 10.7s\n",
      "395:\ttest: 0.7708333\tbest: 0.7725694 (386)\ttotal: 6.98s\tremaining: 10.7s\n",
      "396:\ttest: 0.7709573\tbest: 0.7725694 (386)\ttotal: 7.01s\tremaining: 10.6s\n",
      "397:\ttest: 0.7709573\tbest: 0.7725694 (386)\ttotal: 7.03s\tremaining: 10.6s\n",
      "398:\ttest: 0.7714534\tbest: 0.7725694 (386)\ttotal: 7.05s\tremaining: 10.6s\n",
      "399:\ttest: 0.7709573\tbest: 0.7725694 (386)\ttotal: 7.07s\tremaining: 10.6s\n",
      "400:\ttest: 0.7710813\tbest: 0.7725694 (386)\ttotal: 7.08s\tremaining: 10.6s\n",
      "401:\ttest: 0.7709573\tbest: 0.7725694 (386)\ttotal: 7.1s\tremaining: 10.6s\n",
      "402:\ttest: 0.7714534\tbest: 0.7725694 (386)\ttotal: 7.11s\tremaining: 10.5s\n",
      "403:\ttest: 0.7709573\tbest: 0.7725694 (386)\ttotal: 7.13s\tremaining: 10.5s\n",
      "404:\ttest: 0.7708333\tbest: 0.7725694 (386)\ttotal: 7.14s\tremaining: 10.5s\n",
      "405:\ttest: 0.7707093\tbest: 0.7725694 (386)\ttotal: 7.16s\tremaining: 10.5s\n",
      "406:\ttest: 0.7708333\tbest: 0.7725694 (386)\ttotal: 7.18s\tremaining: 10.5s\n",
      "407:\ttest: 0.7708333\tbest: 0.7725694 (386)\ttotal: 7.2s\tremaining: 10.4s\n",
      "408:\ttest: 0.7705853\tbest: 0.7725694 (386)\ttotal: 7.21s\tremaining: 10.4s\n",
      "409:\ttest: 0.7702133\tbest: 0.7725694 (386)\ttotal: 7.23s\tremaining: 10.4s\n",
      "410:\ttest: 0.7697173\tbest: 0.7725694 (386)\ttotal: 7.24s\tremaining: 10.4s\n",
      "411:\ttest: 0.7699653\tbest: 0.7725694 (386)\ttotal: 7.26s\tremaining: 10.4s\n",
      "412:\ttest: 0.7692212\tbest: 0.7725694 (386)\ttotal: 7.28s\tremaining: 10.3s\n",
      "413:\ttest: 0.7689732\tbest: 0.7725694 (386)\ttotal: 7.29s\tremaining: 10.3s\n",
      "414:\ttest: 0.7690972\tbest: 0.7725694 (386)\ttotal: 7.31s\tremaining: 10.3s\n",
      "415:\ttest: 0.7697173\tbest: 0.7725694 (386)\ttotal: 7.32s\tremaining: 10.3s\n",
      "416:\ttest: 0.7695933\tbest: 0.7725694 (386)\ttotal: 7.34s\tremaining: 10.3s\n",
      "417:\ttest: 0.7697173\tbest: 0.7725694 (386)\ttotal: 7.35s\tremaining: 10.2s\n",
      "418:\ttest: 0.7698413\tbest: 0.7725694 (386)\ttotal: 7.37s\tremaining: 10.2s\n",
      "419:\ttest: 0.7698413\tbest: 0.7725694 (386)\ttotal: 7.38s\tremaining: 10.2s\n",
      "420:\ttest: 0.7702133\tbest: 0.7725694 (386)\ttotal: 7.39s\tremaining: 10.2s\n",
      "421:\ttest: 0.7703373\tbest: 0.7725694 (386)\ttotal: 7.4s\tremaining: 10.1s\n",
      "422:\ttest: 0.7705853\tbest: 0.7725694 (386)\ttotal: 7.42s\tremaining: 10.1s\n",
      "423:\ttest: 0.7713294\tbest: 0.7725694 (386)\ttotal: 7.44s\tremaining: 10.1s\n",
      "424:\ttest: 0.7713294\tbest: 0.7725694 (386)\ttotal: 7.46s\tremaining: 10.1s\n",
      "425:\ttest: 0.7718254\tbest: 0.7725694 (386)\ttotal: 7.47s\tremaining: 10.1s\n",
      "426:\ttest: 0.7717014\tbest: 0.7725694 (386)\ttotal: 7.49s\tremaining: 10s\n",
      "427:\ttest: 0.7720734\tbest: 0.7725694 (386)\ttotal: 7.5s\tremaining: 10s\n",
      "428:\ttest: 0.7720734\tbest: 0.7725694 (386)\ttotal: 7.52s\tremaining: 10s\n",
      "429:\ttest: 0.7719494\tbest: 0.7725694 (386)\ttotal: 7.54s\tremaining: 9.99s\n",
      "430:\ttest: 0.7715774\tbest: 0.7725694 (386)\ttotal: 7.56s\tremaining: 9.98s\n",
      "431:\ttest: 0.7715774\tbest: 0.7725694 (386)\ttotal: 7.57s\tremaining: 9.96s\n",
      "432:\ttest: 0.7713294\tbest: 0.7725694 (386)\ttotal: 7.59s\tremaining: 9.94s\n",
      "433:\ttest: 0.7713294\tbest: 0.7725694 (386)\ttotal: 7.6s\tremaining: 9.92s\n",
      "434:\ttest: 0.7717014\tbest: 0.7725694 (386)\ttotal: 7.62s\tremaining: 9.9s\n",
      "435:\ttest: 0.7719494\tbest: 0.7725694 (386)\ttotal: 7.64s\tremaining: 9.88s\n",
      "436:\ttest: 0.7721974\tbest: 0.7725694 (386)\ttotal: 7.65s\tremaining: 9.86s\n",
      "437:\ttest: 0.7718254\tbest: 0.7725694 (386)\ttotal: 7.67s\tremaining: 9.84s\n",
      "438:\ttest: 0.7719494\tbest: 0.7725694 (386)\ttotal: 7.69s\tremaining: 9.82s\n",
      "439:\ttest: 0.7714534\tbest: 0.7725694 (386)\ttotal: 7.7s\tremaining: 9.8s\n",
      "440:\ttest: 0.7717014\tbest: 0.7725694 (386)\ttotal: 7.72s\tremaining: 9.78s\n",
      "441:\ttest: 0.7715774\tbest: 0.7725694 (386)\ttotal: 7.74s\tremaining: 9.77s\n",
      "442:\ttest: 0.7713294\tbest: 0.7725694 (386)\ttotal: 7.75s\tremaining: 9.74s\n",
      "443:\ttest: 0.7717014\tbest: 0.7725694 (386)\ttotal: 7.77s\tremaining: 9.73s\n",
      "444:\ttest: 0.7717014\tbest: 0.7725694 (386)\ttotal: 7.78s\tremaining: 9.71s\n",
      "445:\ttest: 0.7714534\tbest: 0.7725694 (386)\ttotal: 7.8s\tremaining: 9.69s\n",
      "446:\ttest: 0.7708333\tbest: 0.7725694 (386)\ttotal: 7.81s\tremaining: 9.66s\n",
      "447:\ttest: 0.7708333\tbest: 0.7725694 (386)\ttotal: 7.83s\tremaining: 9.64s\n",
      "448:\ttest: 0.7717014\tbest: 0.7725694 (386)\ttotal: 7.84s\tremaining: 9.62s\n",
      "449:\ttest: 0.7713294\tbest: 0.7725694 (386)\ttotal: 7.86s\tremaining: 9.6s\n",
      "450:\ttest: 0.7710813\tbest: 0.7725694 (386)\ttotal: 7.88s\tremaining: 9.59s\n",
      "451:\ttest: 0.7708333\tbest: 0.7725694 (386)\ttotal: 7.88s\tremaining: 9.55s\n",
      "452:\ttest: 0.7710813\tbest: 0.7725694 (386)\ttotal: 7.89s\tremaining: 9.53s\n",
      "453:\ttest: 0.7708333\tbest: 0.7725694 (386)\ttotal: 7.91s\tremaining: 9.51s\n",
      "454:\ttest: 0.7705853\tbest: 0.7725694 (386)\ttotal: 7.92s\tremaining: 9.49s\n",
      "455:\ttest: 0.7708333\tbest: 0.7725694 (386)\ttotal: 7.94s\tremaining: 9.47s\n",
      "456:\ttest: 0.7704613\tbest: 0.7725694 (386)\ttotal: 7.96s\tremaining: 9.46s\n",
      "457:\ttest: 0.7703373\tbest: 0.7725694 (386)\ttotal: 7.97s\tremaining: 9.44s\n",
      "458:\ttest: 0.7703373\tbest: 0.7725694 (386)\ttotal: 7.99s\tremaining: 9.42s\n",
      "459:\ttest: 0.7702133\tbest: 0.7725694 (386)\ttotal: 8.01s\tremaining: 9.41s\n",
      "460:\ttest: 0.7707093\tbest: 0.7725694 (386)\ttotal: 8.03s\tremaining: 9.39s\n",
      "461:\ttest: 0.7707093\tbest: 0.7725694 (386)\ttotal: 8.05s\tremaining: 9.37s\n",
      "462:\ttest: 0.7710813\tbest: 0.7725694 (386)\ttotal: 8.06s\tremaining: 9.36s\n",
      "463:\ttest: 0.7707093\tbest: 0.7725694 (386)\ttotal: 8.09s\tremaining: 9.34s\n",
      "464:\ttest: 0.7710813\tbest: 0.7725694 (386)\ttotal: 8.1s\tremaining: 9.32s\n",
      "465:\ttest: 0.7712054\tbest: 0.7725694 (386)\ttotal: 8.12s\tremaining: 9.3s\n",
      "466:\ttest: 0.7712054\tbest: 0.7725694 (386)\ttotal: 8.13s\tremaining: 9.29s\n",
      "467:\ttest: 0.7709573\tbest: 0.7725694 (386)\ttotal: 8.15s\tremaining: 9.27s\n",
      "468:\ttest: 0.7713294\tbest: 0.7725694 (386)\ttotal: 8.17s\tremaining: 9.25s\n",
      "469:\ttest: 0.7714534\tbest: 0.7725694 (386)\ttotal: 8.19s\tremaining: 9.24s\n",
      "470:\ttest: 0.7715774\tbest: 0.7725694 (386)\ttotal: 8.2s\tremaining: 9.21s\n",
      "471:\ttest: 0.7709573\tbest: 0.7725694 (386)\ttotal: 8.22s\tremaining: 9.19s\n",
      "472:\ttest: 0.7713294\tbest: 0.7725694 (386)\ttotal: 8.23s\tremaining: 9.17s\n",
      "473:\ttest: 0.7715774\tbest: 0.7725694 (386)\ttotal: 8.25s\tremaining: 9.15s\n",
      "474:\ttest: 0.7710813\tbest: 0.7725694 (386)\ttotal: 8.26s\tremaining: 9.13s\n",
      "475:\ttest: 0.7717014\tbest: 0.7725694 (386)\ttotal: 8.28s\tremaining: 9.11s\n",
      "476:\ttest: 0.7713294\tbest: 0.7725694 (386)\ttotal: 8.3s\tremaining: 9.1s\n",
      "477:\ttest: 0.7712054\tbest: 0.7725694 (386)\ttotal: 8.32s\tremaining: 9.09s\n",
      "478:\ttest: 0.7715774\tbest: 0.7725694 (386)\ttotal: 8.35s\tremaining: 9.08s\n",
      "479:\ttest: 0.7717014\tbest: 0.7725694 (386)\ttotal: 8.38s\tremaining: 9.08s\n",
      "480:\ttest: 0.7717014\tbest: 0.7725694 (386)\ttotal: 8.4s\tremaining: 9.07s\n",
      "481:\ttest: 0.7717014\tbest: 0.7725694 (386)\ttotal: 8.4s\tremaining: 9.03s\n",
      "482:\ttest: 0.7717014\tbest: 0.7725694 (386)\ttotal: 8.42s\tremaining: 9.01s\n",
      "483:\ttest: 0.7718254\tbest: 0.7725694 (386)\ttotal: 8.44s\tremaining: 8.99s\n",
      "484:\ttest: 0.7718254\tbest: 0.7725694 (386)\ttotal: 8.45s\tremaining: 8.97s\n",
      "485:\ttest: 0.7718254\tbest: 0.7725694 (386)\ttotal: 8.47s\tremaining: 8.96s\n",
      "486:\ttest: 0.7715774\tbest: 0.7725694 (386)\ttotal: 8.48s\tremaining: 8.94s\n",
      "487:\ttest: 0.7719494\tbest: 0.7725694 (386)\ttotal: 8.5s\tremaining: 8.92s\n",
      "488:\ttest: 0.7718254\tbest: 0.7725694 (386)\ttotal: 8.52s\tremaining: 8.9s\n",
      "489:\ttest: 0.7715774\tbest: 0.7725694 (386)\ttotal: 8.54s\tremaining: 8.89s\n",
      "490:\ttest: 0.7717014\tbest: 0.7725694 (386)\ttotal: 8.55s\tremaining: 8.87s\n",
      "491:\ttest: 0.7718254\tbest: 0.7725694 (386)\ttotal: 8.57s\tremaining: 8.85s\n",
      "492:\ttest: 0.7718254\tbest: 0.7725694 (386)\ttotal: 8.58s\tremaining: 8.83s\n",
      "493:\ttest: 0.7718254\tbest: 0.7725694 (386)\ttotal: 8.6s\tremaining: 8.81s\n",
      "494:\ttest: 0.7724454\tbest: 0.7725694 (386)\ttotal: 8.62s\tremaining: 8.79s\n",
      "495:\ttest: 0.7724454\tbest: 0.7725694 (386)\ttotal: 8.63s\tremaining: 8.77s\n",
      "496:\ttest: 0.7724454\tbest: 0.7725694 (386)\ttotal: 8.65s\tremaining: 8.75s\n",
      "497:\ttest: 0.7720734\tbest: 0.7725694 (386)\ttotal: 8.66s\tremaining: 8.73s\n",
      "498:\ttest: 0.7720734\tbest: 0.7725694 (386)\ttotal: 8.68s\tremaining: 8.71s\n",
      "499:\ttest: 0.7723214\tbest: 0.7725694 (386)\ttotal: 8.69s\tremaining: 8.69s\n",
      "500:\ttest: 0.7724454\tbest: 0.7725694 (386)\ttotal: 8.71s\tremaining: 8.68s\n",
      "501:\ttest: 0.7723214\tbest: 0.7725694 (386)\ttotal: 8.72s\tremaining: 8.66s\n",
      "502:\ttest: 0.7725694\tbest: 0.7725694 (386)\ttotal: 8.74s\tremaining: 8.64s\n",
      "503:\ttest: 0.7726935\tbest: 0.7726935 (503)\ttotal: 8.76s\tremaining: 8.62s\n",
      "504:\ttest: 0.7726935\tbest: 0.7726935 (503)\ttotal: 8.77s\tremaining: 8.6s\n",
      "505:\ttest: 0.7725694\tbest: 0.7726935 (503)\ttotal: 8.78s\tremaining: 8.57s\n",
      "506:\ttest: 0.7728175\tbest: 0.7728175 (506)\ttotal: 8.79s\tremaining: 8.55s\n",
      "507:\ttest: 0.7726935\tbest: 0.7728175 (506)\ttotal: 8.79s\tremaining: 8.52s\n",
      "508:\ttest: 0.7726935\tbest: 0.7728175 (506)\ttotal: 8.81s\tremaining: 8.5s\n",
      "509:\ttest: 0.7725694\tbest: 0.7728175 (506)\ttotal: 8.82s\tremaining: 8.48s\n",
      "510:\ttest: 0.7726935\tbest: 0.7728175 (506)\ttotal: 8.84s\tremaining: 8.46s\n",
      "511:\ttest: 0.7718254\tbest: 0.7728175 (506)\ttotal: 8.86s\tremaining: 8.44s\n",
      "512:\ttest: 0.7718254\tbest: 0.7728175 (506)\ttotal: 8.87s\tremaining: 8.42s\n",
      "513:\ttest: 0.7713294\tbest: 0.7728175 (506)\ttotal: 8.89s\tremaining: 8.4s\n",
      "514:\ttest: 0.7717014\tbest: 0.7728175 (506)\ttotal: 8.9s\tremaining: 8.38s\n",
      "515:\ttest: 0.7729415\tbest: 0.7729415 (515)\ttotal: 8.92s\tremaining: 8.37s\n",
      "516:\ttest: 0.7729415\tbest: 0.7729415 (515)\ttotal: 8.93s\tremaining: 8.35s\n",
      "517:\ttest: 0.7721974\tbest: 0.7729415 (515)\ttotal: 8.95s\tremaining: 8.33s\n",
      "518:\ttest: 0.7720734\tbest: 0.7729415 (515)\ttotal: 8.96s\tremaining: 8.31s\n",
      "519:\ttest: 0.7715774\tbest: 0.7729415 (515)\ttotal: 8.98s\tremaining: 8.29s\n",
      "520:\ttest: 0.7717014\tbest: 0.7729415 (515)\ttotal: 8.99s\tremaining: 8.27s\n",
      "521:\ttest: 0.7717014\tbest: 0.7729415 (515)\ttotal: 9.01s\tremaining: 8.25s\n",
      "522:\ttest: 0.7713294\tbest: 0.7729415 (515)\ttotal: 9.03s\tremaining: 8.23s\n",
      "523:\ttest: 0.7713294\tbest: 0.7729415 (515)\ttotal: 9.03s\tremaining: 8.2s\n",
      "524:\ttest: 0.7714534\tbest: 0.7729415 (515)\ttotal: 9.05s\tremaining: 8.19s\n",
      "525:\ttest: 0.7715774\tbest: 0.7729415 (515)\ttotal: 9.06s\tremaining: 8.17s\n",
      "526:\ttest: 0.7719494\tbest: 0.7729415 (515)\ttotal: 9.08s\tremaining: 8.15s\n",
      "527:\ttest: 0.7721974\tbest: 0.7729415 (515)\ttotal: 9.09s\tremaining: 8.13s\n",
      "528:\ttest: 0.7719494\tbest: 0.7729415 (515)\ttotal: 9.11s\tremaining: 8.11s\n",
      "529:\ttest: 0.7721974\tbest: 0.7729415 (515)\ttotal: 9.13s\tremaining: 8.09s\n",
      "530:\ttest: 0.7724454\tbest: 0.7729415 (515)\ttotal: 9.14s\tremaining: 8.08s\n",
      "531:\ttest: 0.7717014\tbest: 0.7729415 (515)\ttotal: 9.16s\tremaining: 8.06s\n",
      "532:\ttest: 0.7717014\tbest: 0.7729415 (515)\ttotal: 9.18s\tremaining: 8.04s\n",
      "533:\ttest: 0.7718254\tbest: 0.7729415 (515)\ttotal: 9.19s\tremaining: 8.02s\n",
      "534:\ttest: 0.7720734\tbest: 0.7729415 (515)\ttotal: 9.21s\tremaining: 8s\n",
      "535:\ttest: 0.7714534\tbest: 0.7729415 (515)\ttotal: 9.22s\tremaining: 7.98s\n",
      "536:\ttest: 0.7717014\tbest: 0.7729415 (515)\ttotal: 9.24s\tremaining: 7.96s\n",
      "537:\ttest: 0.7717014\tbest: 0.7729415 (515)\ttotal: 9.24s\tremaining: 7.93s\n",
      "538:\ttest: 0.7717014\tbest: 0.7729415 (515)\ttotal: 9.26s\tremaining: 7.92s\n",
      "539:\ttest: 0.7719494\tbest: 0.7729415 (515)\ttotal: 9.27s\tremaining: 7.9s\n",
      "540:\ttest: 0.7720734\tbest: 0.7729415 (515)\ttotal: 9.29s\tremaining: 7.88s\n",
      "541:\ttest: 0.7720734\tbest: 0.7729415 (515)\ttotal: 9.3s\tremaining: 7.86s\n",
      "542:\ttest: 0.7718254\tbest: 0.7729415 (515)\ttotal: 9.32s\tremaining: 7.84s\n",
      "543:\ttest: 0.7717014\tbest: 0.7729415 (515)\ttotal: 9.32s\tremaining: 7.81s\n",
      "544:\ttest: 0.7710813\tbest: 0.7729415 (515)\ttotal: 9.34s\tremaining: 7.79s\n",
      "545:\ttest: 0.7710813\tbest: 0.7729415 (515)\ttotal: 9.35s\tremaining: 7.78s\n",
      "546:\ttest: 0.7709573\tbest: 0.7729415 (515)\ttotal: 9.37s\tremaining: 7.76s\n",
      "547:\ttest: 0.7712054\tbest: 0.7729415 (515)\ttotal: 9.38s\tremaining: 7.74s\n",
      "548:\ttest: 0.7710813\tbest: 0.7729415 (515)\ttotal: 9.4s\tremaining: 7.72s\n",
      "549:\ttest: 0.7707093\tbest: 0.7729415 (515)\ttotal: 9.43s\tremaining: 7.71s\n",
      "550:\ttest: 0.7709573\tbest: 0.7729415 (515)\ttotal: 9.44s\tremaining: 7.7s\n",
      "551:\ttest: 0.7713294\tbest: 0.7729415 (515)\ttotal: 9.46s\tremaining: 7.68s\n",
      "552:\ttest: 0.7715774\tbest: 0.7729415 (515)\ttotal: 9.47s\tremaining: 7.66s\n",
      "553:\ttest: 0.7714534\tbest: 0.7729415 (515)\ttotal: 9.49s\tremaining: 7.64s\n",
      "554:\ttest: 0.7715774\tbest: 0.7729415 (515)\ttotal: 9.5s\tremaining: 7.62s\n",
      "555:\ttest: 0.7714534\tbest: 0.7729415 (515)\ttotal: 9.52s\tremaining: 7.6s\n",
      "556:\ttest: 0.7714534\tbest: 0.7729415 (515)\ttotal: 9.54s\tremaining: 7.59s\n",
      "557:\ttest: 0.7715774\tbest: 0.7729415 (515)\ttotal: 9.56s\tremaining: 7.57s\n",
      "558:\ttest: 0.7714534\tbest: 0.7729415 (515)\ttotal: 9.58s\tremaining: 7.56s\n",
      "559:\ttest: 0.7715774\tbest: 0.7729415 (515)\ttotal: 9.6s\tremaining: 7.54s\n",
      "560:\ttest: 0.7715774\tbest: 0.7729415 (515)\ttotal: 9.61s\tremaining: 7.52s\n",
      "561:\ttest: 0.7709573\tbest: 0.7729415 (515)\ttotal: 9.63s\tremaining: 7.5s\n",
      "562:\ttest: 0.7710813\tbest: 0.7729415 (515)\ttotal: 9.64s\tremaining: 7.49s\n",
      "563:\ttest: 0.7710813\tbest: 0.7729415 (515)\ttotal: 9.66s\tremaining: 7.47s\n",
      "564:\ttest: 0.7707093\tbest: 0.7729415 (515)\ttotal: 9.67s\tremaining: 7.45s\n",
      "565:\ttest: 0.7707093\tbest: 0.7729415 (515)\ttotal: 9.69s\tremaining: 7.43s\n",
      "566:\ttest: 0.7709573\tbest: 0.7729415 (515)\ttotal: 9.7s\tremaining: 7.41s\n",
      "567:\ttest: 0.7712054\tbest: 0.7729415 (515)\ttotal: 9.71s\tremaining: 7.39s\n",
      "568:\ttest: 0.7712054\tbest: 0.7729415 (515)\ttotal: 9.73s\tremaining: 7.37s\n",
      "569:\ttest: 0.7708333\tbest: 0.7729415 (515)\ttotal: 9.74s\tremaining: 7.35s\n",
      "570:\ttest: 0.7709573\tbest: 0.7729415 (515)\ttotal: 9.76s\tremaining: 7.33s\n",
      "571:\ttest: 0.7710813\tbest: 0.7729415 (515)\ttotal: 9.77s\tremaining: 7.31s\n",
      "572:\ttest: 0.7715774\tbest: 0.7729415 (515)\ttotal: 9.79s\tremaining: 7.29s\n",
      "573:\ttest: 0.7714534\tbest: 0.7729415 (515)\ttotal: 9.8s\tremaining: 7.28s\n",
      "574:\ttest: 0.7710813\tbest: 0.7729415 (515)\ttotal: 9.82s\tremaining: 7.26s\n",
      "575:\ttest: 0.7715774\tbest: 0.7729415 (515)\ttotal: 9.83s\tremaining: 7.24s\n",
      "576:\ttest: 0.7713294\tbest: 0.7729415 (515)\ttotal: 9.85s\tremaining: 7.22s\n",
      "577:\ttest: 0.7718254\tbest: 0.7729415 (515)\ttotal: 9.86s\tremaining: 7.2s\n",
      "578:\ttest: 0.7715774\tbest: 0.7729415 (515)\ttotal: 9.88s\tremaining: 7.18s\n",
      "579:\ttest: 0.7715774\tbest: 0.7729415 (515)\ttotal: 9.89s\tremaining: 7.17s\n",
      "580:\ttest: 0.7717014\tbest: 0.7729415 (515)\ttotal: 9.91s\tremaining: 7.15s\n",
      "581:\ttest: 0.7712054\tbest: 0.7729415 (515)\ttotal: 9.93s\tremaining: 7.13s\n",
      "582:\ttest: 0.7712054\tbest: 0.7729415 (515)\ttotal: 9.94s\tremaining: 7.11s\n",
      "583:\ttest: 0.7712054\tbest: 0.7729415 (515)\ttotal: 9.96s\tremaining: 7.09s\n",
      "584:\ttest: 0.7714534\tbest: 0.7729415 (515)\ttotal: 9.97s\tremaining: 7.08s\n",
      "585:\ttest: 0.7715774\tbest: 0.7729415 (515)\ttotal: 9.99s\tremaining: 7.05s\n",
      "586:\ttest: 0.7713294\tbest: 0.7729415 (515)\ttotal: 10s\tremaining: 7.04s\n",
      "587:\ttest: 0.7705853\tbest: 0.7729415 (515)\ttotal: 10s\tremaining: 7.02s\n",
      "588:\ttest: 0.7705853\tbest: 0.7729415 (515)\ttotal: 10s\tremaining: 7.01s\n",
      "589:\ttest: 0.7705853\tbest: 0.7729415 (515)\ttotal: 10.1s\tremaining: 6.99s\n",
      "590:\ttest: 0.7707093\tbest: 0.7729415 (515)\ttotal: 10.1s\tremaining: 6.97s\n",
      "591:\ttest: 0.7707093\tbest: 0.7729415 (515)\ttotal: 10.1s\tremaining: 6.95s\n",
      "592:\ttest: 0.7707093\tbest: 0.7729415 (515)\ttotal: 10.1s\tremaining: 6.94s\n",
      "593:\ttest: 0.7708333\tbest: 0.7729415 (515)\ttotal: 10.1s\tremaining: 6.92s\n",
      "594:\ttest: 0.7707093\tbest: 0.7729415 (515)\ttotal: 10.1s\tremaining: 6.9s\n",
      "595:\ttest: 0.7709573\tbest: 0.7729415 (515)\ttotal: 10.2s\tremaining: 6.88s\n",
      "596:\ttest: 0.7707093\tbest: 0.7729415 (515)\ttotal: 10.2s\tremaining: 6.87s\n",
      "597:\ttest: 0.7707093\tbest: 0.7729415 (515)\ttotal: 10.2s\tremaining: 6.85s\n",
      "598:\ttest: 0.7704613\tbest: 0.7729415 (515)\ttotal: 10.2s\tremaining: 6.83s\n",
      "599:\ttest: 0.7700893\tbest: 0.7729415 (515)\ttotal: 10.2s\tremaining: 6.81s\n",
      "600:\ttest: 0.7700893\tbest: 0.7729415 (515)\ttotal: 10.2s\tremaining: 6.79s\n",
      "601:\ttest: 0.7702133\tbest: 0.7729415 (515)\ttotal: 10.2s\tremaining: 6.78s\n",
      "602:\ttest: 0.7699653\tbest: 0.7729415 (515)\ttotal: 10.3s\tremaining: 6.76s\n",
      "603:\ttest: 0.7698413\tbest: 0.7729415 (515)\ttotal: 10.3s\tremaining: 6.73s\n",
      "604:\ttest: 0.7699653\tbest: 0.7729415 (515)\ttotal: 10.3s\tremaining: 6.71s\n",
      "605:\ttest: 0.7699653\tbest: 0.7729415 (515)\ttotal: 10.3s\tremaining: 6.69s\n",
      "606:\ttest: 0.7698413\tbest: 0.7729415 (515)\ttotal: 10.3s\tremaining: 6.67s\n",
      "607:\ttest: 0.7699653\tbest: 0.7729415 (515)\ttotal: 10.3s\tremaining: 6.66s\n",
      "608:\ttest: 0.7703373\tbest: 0.7729415 (515)\ttotal: 10.3s\tremaining: 6.64s\n",
      "609:\ttest: 0.7703373\tbest: 0.7729415 (515)\ttotal: 10.4s\tremaining: 6.62s\n",
      "610:\ttest: 0.7702133\tbest: 0.7729415 (515)\ttotal: 10.4s\tremaining: 6.6s\n",
      "611:\ttest: 0.7702133\tbest: 0.7729415 (515)\ttotal: 10.4s\tremaining: 6.58s\n",
      "612:\ttest: 0.7702133\tbest: 0.7729415 (515)\ttotal: 10.4s\tremaining: 6.57s\n",
      "613:\ttest: 0.7700893\tbest: 0.7729415 (515)\ttotal: 10.4s\tremaining: 6.55s\n",
      "614:\ttest: 0.7700893\tbest: 0.7729415 (515)\ttotal: 10.4s\tremaining: 6.53s\n",
      "615:\ttest: 0.7700893\tbest: 0.7729415 (515)\ttotal: 10.4s\tremaining: 6.51s\n",
      "616:\ttest: 0.7697173\tbest: 0.7729415 (515)\ttotal: 10.5s\tremaining: 6.49s\n",
      "617:\ttest: 0.7700893\tbest: 0.7729415 (515)\ttotal: 10.5s\tremaining: 6.47s\n",
      "618:\ttest: 0.7700893\tbest: 0.7729415 (515)\ttotal: 10.5s\tremaining: 6.45s\n",
      "619:\ttest: 0.7698413\tbest: 0.7729415 (515)\ttotal: 10.5s\tremaining: 6.44s\n",
      "620:\ttest: 0.7698413\tbest: 0.7729415 (515)\ttotal: 10.5s\tremaining: 6.42s\n",
      "621:\ttest: 0.7697173\tbest: 0.7729415 (515)\ttotal: 10.5s\tremaining: 6.4s\n",
      "622:\ttest: 0.7694692\tbest: 0.7729415 (515)\ttotal: 10.6s\tremaining: 6.39s\n",
      "623:\ttest: 0.7697173\tbest: 0.7729415 (515)\ttotal: 10.6s\tremaining: 6.37s\n",
      "624:\ttest: 0.7694692\tbest: 0.7729415 (515)\ttotal: 10.6s\tremaining: 6.35s\n",
      "625:\ttest: 0.7697173\tbest: 0.7729415 (515)\ttotal: 10.6s\tremaining: 6.34s\n",
      "626:\ttest: 0.7695933\tbest: 0.7729415 (515)\ttotal: 10.6s\tremaining: 6.32s\n",
      "627:\ttest: 0.7695933\tbest: 0.7729415 (515)\ttotal: 10.6s\tremaining: 6.3s\n",
      "628:\ttest: 0.7692212\tbest: 0.7729415 (515)\ttotal: 10.7s\tremaining: 6.28s\n",
      "629:\ttest: 0.7693452\tbest: 0.7729415 (515)\ttotal: 10.7s\tremaining: 6.26s\n",
      "630:\ttest: 0.7695933\tbest: 0.7729415 (515)\ttotal: 10.7s\tremaining: 6.25s\n",
      "631:\ttest: 0.7694692\tbest: 0.7729415 (515)\ttotal: 10.7s\tremaining: 6.23s\n",
      "632:\ttest: 0.7694692\tbest: 0.7729415 (515)\ttotal: 10.7s\tremaining: 6.21s\n",
      "633:\ttest: 0.7694692\tbest: 0.7729415 (515)\ttotal: 10.7s\tremaining: 6.19s\n",
      "634:\ttest: 0.7694692\tbest: 0.7729415 (515)\ttotal: 10.7s\tremaining: 6.17s\n",
      "635:\ttest: 0.7694692\tbest: 0.7729415 (515)\ttotal: 10.8s\tremaining: 6.16s\n",
      "636:\ttest: 0.7692212\tbest: 0.7729415 (515)\ttotal: 10.8s\tremaining: 6.14s\n",
      "637:\ttest: 0.7693452\tbest: 0.7729415 (515)\ttotal: 10.8s\tremaining: 6.12s\n",
      "638:\ttest: 0.7694692\tbest: 0.7729415 (515)\ttotal: 10.8s\tremaining: 6.1s\n",
      "639:\ttest: 0.7695933\tbest: 0.7729415 (515)\ttotal: 10.8s\tremaining: 6.08s\n",
      "640:\ttest: 0.7698413\tbest: 0.7729415 (515)\ttotal: 10.8s\tremaining: 6.07s\n",
      "641:\ttest: 0.7698413\tbest: 0.7729415 (515)\ttotal: 10.8s\tremaining: 6.05s\n",
      "642:\ttest: 0.7697173\tbest: 0.7729415 (515)\ttotal: 10.8s\tremaining: 6.02s\n",
      "643:\ttest: 0.7697173\tbest: 0.7729415 (515)\ttotal: 10.9s\tremaining: 6s\n",
      "644:\ttest: 0.7697173\tbest: 0.7729415 (515)\ttotal: 10.9s\tremaining: 5.99s\n",
      "645:\ttest: 0.7694692\tbest: 0.7729415 (515)\ttotal: 10.9s\tremaining: 5.97s\n",
      "646:\ttest: 0.7693452\tbest: 0.7729415 (515)\ttotal: 10.9s\tremaining: 5.95s\n",
      "647:\ttest: 0.7694692\tbest: 0.7729415 (515)\ttotal: 10.9s\tremaining: 5.93s\n",
      "648:\ttest: 0.7694692\tbest: 0.7729415 (515)\ttotal: 10.9s\tremaining: 5.92s\n",
      "649:\ttest: 0.7695933\tbest: 0.7729415 (515)\ttotal: 11s\tremaining: 5.9s\n",
      "650:\ttest: 0.7694692\tbest: 0.7729415 (515)\ttotal: 11s\tremaining: 5.88s\n",
      "651:\ttest: 0.7694692\tbest: 0.7729415 (515)\ttotal: 11s\tremaining: 5.86s\n",
      "652:\ttest: 0.7695933\tbest: 0.7729415 (515)\ttotal: 11s\tremaining: 5.84s\n",
      "653:\ttest: 0.7695933\tbest: 0.7729415 (515)\ttotal: 11s\tremaining: 5.83s\n",
      "654:\ttest: 0.7698413\tbest: 0.7729415 (515)\ttotal: 11s\tremaining: 5.82s\n",
      "655:\ttest: 0.7698413\tbest: 0.7729415 (515)\ttotal: 11.1s\tremaining: 5.8s\n",
      "656:\ttest: 0.7700893\tbest: 0.7729415 (515)\ttotal: 11.1s\tremaining: 5.78s\n",
      "657:\ttest: 0.7697173\tbest: 0.7729415 (515)\ttotal: 11.1s\tremaining: 5.77s\n",
      "658:\ttest: 0.7697173\tbest: 0.7729415 (515)\ttotal: 11.1s\tremaining: 5.75s\n",
      "659:\ttest: 0.7697173\tbest: 0.7729415 (515)\ttotal: 11.1s\tremaining: 5.73s\n",
      "660:\ttest: 0.7697173\tbest: 0.7729415 (515)\ttotal: 11.1s\tremaining: 5.71s\n",
      "661:\ttest: 0.7695933\tbest: 0.7729415 (515)\ttotal: 11.2s\tremaining: 5.7s\n",
      "662:\ttest: 0.7699653\tbest: 0.7729415 (515)\ttotal: 11.2s\tremaining: 5.68s\n",
      "663:\ttest: 0.7697173\tbest: 0.7729415 (515)\ttotal: 11.2s\tremaining: 5.66s\n",
      "664:\ttest: 0.7694692\tbest: 0.7729415 (515)\ttotal: 11.2s\tremaining: 5.65s\n",
      "665:\ttest: 0.7698413\tbest: 0.7729415 (515)\ttotal: 11.2s\tremaining: 5.63s\n",
      "Stopped by overfitting detector  (150 iterations wait)\n",
      "\n",
      "bestTest = 0.7729414683\n",
      "bestIteration = 515\n",
      "\n",
      "Shrink model to first 516 iterations.\n"
     ]
    },
    {
     "data": {
      "text/plain": [
       "<catboost.core.CatBoostClassifier at 0x304ed7b00>"
      ]
     },
     "execution_count": 40,
     "metadata": {},
     "output_type": "execute_result"
    }
   ],
   "execution_count": 40
  },
  {
   "metadata": {
    "ExecuteTime": {
     "end_time": "2024-05-26T12:30:02.384043Z",
     "start_time": "2024-05-26T12:30:02.173435Z"
    }
   },
   "cell_type": "code",
   "source": "prediction_performance(X_test, y_test, classifier)",
   "id": "b8ef20b69842df0b",
   "outputs": [
    {
     "name": "stdout",
     "output_type": "stream",
     "text": [
      "Matthews correlation coefficient: 0.07\n",
      "Of the  75 nodes predicted as scrambled,      2.7% are actually scrambled\n",
      "Of the 7  nodes that are actually scrambled, 28.6% are predicted as scrambled\n"
     ]
    },
    {
     "data": {
      "text/plain": [
       "<Figure size 900x600 with 4 Axes>"
      ],
      "image/png": "[encoded data removed]"
     },
     "metadata": {},
     "output_type": "display_data"
    }
   ],
   "execution_count": 41
  },
  {
   "metadata": {
    "ExecuteTime": {
     "end_time": "2024-05-26T12:30:23.289994Z",
     "start_time": "2024-05-26T12:30:22.898041Z"
    }
   },
   "cell_type": "code",
   "source": [
    "# for the purpose of performance comparison, we will use a majority class classifier and a random classifier\n",
    "from sklearn.dummy import DummyClassifier\n",
    "dummy = DummyClassifier(strategy='most_frequent')\n",
    "dummy.fit(X_train, y_train, sample_weight=weights_train)\n",
    "prediction_performance(X_test, y_test, dummy)\n",
    "fig = plt.gcf()\n",
    "fig.suptitle('Majority class classifier', y=1.02)\n",
    "dummy = DummyClassifier(strategy='prior')\n",
    "dummy.fit(X_train, y_train, sample_weight=weights_train)\n",
    "prediction_performance(X_test, y_test, dummy)\n",
    "fig = plt.gcf()\n",
    "fig.suptitle('Random classifier', y=1.02)"
   ],
   "id": "b7f3839ebfb42800",
   "outputs": [
    {
     "name": "stdout",
     "output_type": "stream",
     "text": [
      "Matthews correlation coefficient: 0.00\n",
      "Of the   0 nodes predicted as scrambled,      nan% are actually scrambled\n",
      "Of the 7  nodes that are actually scrambled, 0.0% are predicted as scrambled\n",
      "Matthews correlation coefficient: 0.00\n",
      "Of the   0 nodes predicted as scrambled,      nan% are actually scrambled\n",
      "Of the 7  nodes that are actually scrambled, 0.0% are predicted as scrambled\n"
     ]
    },
    {
     "name": "stderr",
     "output_type": "stream",
     "text": [
      "/var/folders/xy/6n3m38qx423b_gjbx89x02b40000gn/T/ipykernel_97680/3523838157.py:10: RuntimeWarning: invalid value encountered in scalar divide\n",
      "  precision = 100 * np.sum(y_test & y_pred) / np.sum(y_pred)\n",
      "/var/folders/xy/6n3m38qx423b_gjbx89x02b40000gn/T/ipykernel_97680/3523838157.py:10: RuntimeWarning: invalid value encountered in scalar divide\n",
      "  precision = 100 * np.sum(y_test & y_pred) / np.sum(y_pred)\n"
     ]
    },
    {
     "data": {
      "text/plain": [
       "Text(0.5, 1.02, 'Random classifier')"
      ]
     },
     "execution_count": 43,
     "metadata": {},
     "output_type": "execute_result"
    },
    {
     "data": {
      "text/plain": [
       "<Figure size 900x600 with 4 Axes>"
      ],
      "image/png": "[encoded data removed]"
     },
     "metadata": {},
     "output_type": "display_data"
    },
    {
     "data": {
      "text/plain": [
       "<Figure size 900x600 with 4 Axes>"
      ],
      "image/png": "[encoded data removed]"
     },
     "metadata": {},
     "output_type": "display_data"
    }
   ],
   "execution_count": 43
  },
  {
   "metadata": {
    "ExecuteTime": {
     "end_time": "2024-05-26T12:31:01.779848Z",
     "start_time": "2024-05-26T12:31:01.757437Z"
    }
   },
   "cell_type": "code",
   "source": "nx.graph_atlas?",
   "id": "b2bfed1770cc3b2e",
   "outputs": [],
   "execution_count": 44
  },
  {
   "metadata": {
    "ExecuteTime": {
     "end_time": "2024-05-26T12:31:33.611517Z",
     "start_time": "2024-05-26T12:31:33.607772Z"
    }
   },
   "cell_type": "code",
   "source": "nx.graph_atlas_g?",
   "id": "aabdece021726d18",
   "outputs": [],
   "execution_count": 46
  },
  {
   "metadata": {},
   "cell_type": "code",
   "outputs": [],
   "execution_count": null,
   "source": "",
   "id": "9c075b31cd8eb3"
  },
  {
   "metadata": {
    "ExecuteTime": {
     "end_time": "2024-05-26T12:42:09.964331Z",
     "start_time": "2024-05-26T12:42:09.054025Z"
    }
   },
   "cell_type": "code",
   "source": [
    "import torch\n",
    "import torch.nn.functional as F\n",
    "from torch_geometric.nn import GCNConv\n",
    "from torch_geometric.data import Data\n",
    "from sklearn.metrics import classification_report\n",
    "\n",
    "# Convert NetworkX graph to PyTorch Geometric Data object\n",
    "def networkx_to_pyg_data(G):\n",
    "    edge_index = torch.tensor(list(G.edges)).t().contiguous()\n",
    "    x = torch.eye(G.number_of_nodes())  # One-hot encoding for each node\n",
    "    y = torch.tensor([G.nodes[node].get('label', False) for node in G.nodes()], dtype=torch.long)\n",
    "    data = Data(x=x, edge_index=edge_index, y=y)\n",
    "    return data\n",
    "\n",
    "\n",
    "def try_torch(G):\n",
    "    \n",
    "    data = networkx_to_pyg_data(G)\n",
    "    data.train_mask = torch.rand(len(data.y)) < 0.8  # 80% train, 20% test\n",
    "    data.test_mask = ~data.train_mask\n",
    "    \n",
    "    # Define GCN model\n",
    "    class GCN(torch.nn.Module):\n",
    "        def __init__(self):\n",
    "            super(GCN, self).__init__()\n",
    "            self.conv1 = GCNConv(data.num_node_features, 16)\n",
    "            self.conv2 = GCNConv(16, 2)  # Assuming binary classification\n",
    "    \n",
    "        def forward(self, data):\n",
    "            x, edge_index = data.x, data.edge_index\n",
    "            x = self.conv1(x, edge_index)\n",
    "            x = F.relu(x)\n",
    "            x = F.dropout(x, training=self.training)\n",
    "            x = self.conv2(x, edge_index)\n",
    "            return F.log_softmax(x, dim=1)\n",
    "    \n",
    "    # Train the GCN model\n",
    "    device = torch.device('cpu')\n",
    "    model = GCN().to(device)\n",
    "    data = data.to(device)\n",
    "    optimizer = torch.optim.Adam(model.parameters(), lr=0.01, weight_decay=5e-4)\n",
    "    \n",
    "    model.train()\n",
    "    for epoch in range(200):\n",
    "        optimizer.zero_grad()\n",
    "        out = model(data)\n",
    "        loss = F.nll_loss(out[data.train_mask], data.y[data.train_mask])\n",
    "        loss.backward()\n",
    "        optimizer.step()\n",
    "    \n",
    "    # Evaluate the GCN model\n",
    "    model.eval()\n",
    "    _, pred = model(data).max(dim=1)\n",
    "    correct = (pred[data.test_mask] == data.y[data.test_mask]).sum()\n",
    "    accuracy = int(correct) / int(data.test_mask.sum())\n",
    "    print('Accuracy: {:.4f}'.format(accuracy))"
   ],
   "id": "ccd5a760bdd6f399",
   "outputs": [
    {
     "ename": "ModuleNotFoundError",
     "evalue": "No module named 'torch_geometric'",
     "output_type": "error",
     "traceback": [
      "\u001B[0;31m---------------------------------------------------------------------------\u001B[0m",
      "\u001B[0;31mModuleNotFoundError\u001B[0m                       Traceback (most recent call last)",
      "Cell \u001B[0;32mIn[48], line 3\u001B[0m\n\u001B[1;32m      1\u001B[0m \u001B[38;5;28;01mimport\u001B[39;00m \u001B[38;5;21;01mtorch\u001B[39;00m\n\u001B[1;32m      2\u001B[0m \u001B[38;5;28;01mimport\u001B[39;00m \u001B[38;5;21;01mtorch\u001B[39;00m\u001B[38;5;21;01m.\u001B[39;00m\u001B[38;5;21;01mnn\u001B[39;00m\u001B[38;5;21;01m.\u001B[39;00m\u001B[38;5;21;01mfunctional\u001B[39;00m \u001B[38;5;28;01mas\u001B[39;00m \u001B[38;5;21;01mF\u001B[39;00m\n\u001B[0;32m----> 3\u001B[0m \u001B[38;5;28;01mfrom\u001B[39;00m \u001B[38;5;21;01mtorch_geometric\u001B[39;00m\u001B[38;5;21;01m.\u001B[39;00m\u001B[38;5;21;01mnn\u001B[39;00m \u001B[38;5;28;01mimport\u001B[39;00m GCNConv\n\u001B[1;32m      4\u001B[0m \u001B[38;5;28;01mfrom\u001B[39;00m \u001B[38;5;21;01mtorch_geometric\u001B[39;00m\u001B[38;5;21;01m.\u001B[39;00m\u001B[38;5;21;01mdata\u001B[39;00m \u001B[38;5;28;01mimport\u001B[39;00m Data\n\u001B[1;32m      5\u001B[0m \u001B[38;5;28;01mfrom\u001B[39;00m \u001B[38;5;21;01msklearn\u001B[39;00m\u001B[38;5;21;01m.\u001B[39;00m\u001B[38;5;21;01mmetrics\u001B[39;00m \u001B[38;5;28;01mimport\u001B[39;00m classification_report\n",
      "\u001B[0;31mModuleNotFoundError\u001B[0m: No module named 'torch_geometric'"
     ]
    }
   ],
   "execution_count": 48
  },
  {
   "metadata": {},
   "cell_type": "code",
   "outputs": [],
   "execution_count": null,
   "source": [
    "\n",
    "\n",
    "\n"
   ],
   "id": "964ee227df3be9cf"
  },
  {
   "metadata": {
    "ExecuteTime": {
     "end_time": "2024-05-26T12:30:02.739667Z",
     "start_time": "2024-05-26T12:30:02.738060Z"
    }
   },
   "cell_type": "code",
   "source": "",
   "id": "6a1c3cb42760537b",
   "outputs": [],
   "execution_count": 42
  },
  {
   "metadata": {},
   "cell_type": "code",
   "outputs": [],
   "execution_count": null,
   "source": "",
   "id": "6a1347ebff13eee9"
  }
 ],
 "metadata": {
  "kernelspec": {
   "display_name": "Python 3",
   "language": "python",
   "name": "python3"
  },
  "language_info": {
   "codemirror_mode": {
    "name": "ipython",
    "version": 2
   },
   "file_extension": ".py",
   "mimetype": "text/x-python",
   "name": "python",
   "nbconvert_exporter": "python",
   "pygments_lexer": "ipython2",
   "version": "2.7.6"
  }
 },
 "nbformat": 4,
 "nbformat_minor": 5
}
