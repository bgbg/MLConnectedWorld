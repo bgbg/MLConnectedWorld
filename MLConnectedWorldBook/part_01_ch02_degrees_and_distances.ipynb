{
 "cells": [
  {
   "cell_type": "markdown",
   "id": "e20f8baf5c6c71d1",
   "metadata": {},
   "source": [
    "# TBD\n",
    "\n",
    "lore ipsum"
   ]
  },
  {
   "cell_type": "code",
   "execution_count": null,
   "id": "6b53736bb22ca9de",
   "metadata": {},
   "outputs": [],
   "source": []
  }
 ],
 "metadata": {
  "kernelspec": {
   "display_name": "Python 3 (ipykernel)",
   "language": "python",
   "name": "python3"
  },
  "language_info": {
   "codemirror_mode": {
    "name": "ipython",
    "version": 3
   },
   "file_extension": ".py",
   "mimetype": "text/x-python",
   "name": "python",
   "nbconvert_exporter": "python",
   "pygments_lexer": "ipython3",
   "version": "3.9.19"
  }
 },
 "nbformat": 4,
 "nbformat_minor": 5
}
