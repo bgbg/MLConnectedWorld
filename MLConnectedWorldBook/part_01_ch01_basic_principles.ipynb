{
 "cells": [
  {
   "cell_type": "markdown",
   "id": "64eda822550ee99a",
   "metadata": {},
   "source": "# Basics of network science (Network building blocks)"
  },
  {
   "cell_type": "code",
   "id": "e0ef227761a48134",
   "metadata": {
    "ExecuteTime": {
     "end_time": "2024-05-09T15:34:35.278523Z",
     "start_time": "2024-05-09T15:34:34.564886Z"
    }
   },
   "source": [
    "import networkx as nx\n",
    "from matplotlib import pyplot as plt\n",
    "import pandas as pd\n",
    "%matplotlib inline"
   ],
   "outputs": [],
   "execution_count": 1
  },
  {
   "metadata": {},
   "cell_type": "markdown",
   "source": [
    "There are several python librariries that can be used to build and analyze networks. The most popular one is `networkx`. Other options are:\n",
    "* [igraph](https://igraph.org/python/) - a library for creating and analyzing complex networks, written in C and Python.\n",
    "* [graph-tool](https://graph-tool.skewed.de/) - a Python module for manipulation and statistical analysis of graphs (a.k.a. networks).\n",
    "* [snap](http://snap.stanford.edu/snappy/index.html) - a general purpose, high performance system for analysis and manipulation of large networks.\n",
    "\n",
    "You can also download [Gephis](https://gephi.org/) which is a visualization and exploration software for all kinds of graphs and networks. Gephi is open-source and free."
   ],
   "id": "6d1630af84d77abd"
  },
  {
   "cell_type": "markdown",
   "id": "93a35ca1-a198-4c64-b424-4e22c5cf8947",
   "metadata": {},
   "source": "## Building blocks"
  },
  {
   "metadata": {},
   "cell_type": "markdown",
   "source": "Let's create an empty graph",
   "id": "ed81a57bdb19204a"
  },
  {
   "cell_type": "code",
   "id": "3cb3b41b41a36bce",
   "metadata": {},
   "source": "G = nx.Graph()",
   "outputs": [],
   "execution_count": null
  },
  {
   "metadata": {},
   "cell_type": "code",
   "source": [
    "G.add_edges_from([(\"A\", \"B\"), (\"A\", \"C\"), (\"B\", \"C\")])\n",
    "nx.draw(G, node_size=800, node_color=\"white\", with_labels=True)"
   ],
   "id": "3c247e5dfce41863",
   "outputs": [],
   "execution_count": null
  },
  {
   "metadata": {},
   "cell_type": "code",
   "source": "G",
   "id": "7bac5681e58f4648",
   "outputs": [],
   "execution_count": null
  },
  {
   "metadata": {},
   "cell_type": "code",
   "source": [
    "D = nx.DiGraph()\n",
    "D.add_edges_from([(\"A\", \"B\"), (\"A\", \"C\"), (\"B\", \"C\")])\n",
    "nx.draw(D, node_size=800, node_color=\"white\", with_labels=True)"
   ],
   "id": "e9b6c2997ad8cce0",
   "outputs": [],
   "execution_count": null
  },
  {
   "metadata": {},
   "cell_type": "markdown",
   "source": "OK, so these are pretty dull graphs. Networkx has a lot of built-in functions to generate more interesting graphs. For example, the `barabasi_albert_graph` function generates a scale-free graph based on the Barabási–Albert model.",
   "id": "f924129cd41ac44"
  },
  {
   "metadata": {},
   "cell_type": "code",
   "source": [
    "BA = nx.barabasi_albert_graph(100, 3)\n",
    "nx.draw(BA, node_size=100)"
   ],
   "id": "fdb29c6ee6d187da",
   "outputs": [],
   "execution_count": null
  },
  {
   "metadata": {},
   "cell_type": "markdown",
   "source": "You'll notice that the node positions are random. ",
   "id": "a2b887443a203bf1"
  },
  {
   "metadata": {},
   "cell_type": "code",
   "source": "nx.draw(BA, node_size=100, pos=nx.spring_layout(BA))",
   "id": "2bbf10d313444c89",
   "outputs": [],
   "execution_count": null
  },
  {
   "metadata": {},
   "cell_type": "markdown",
   "source": [
    "Positioning the nodes using a layout algorithm makes the graph more readable. Networkx has several layout algorithms, such as:\n",
    "* `circular_layout` - positions nodes on a circle\n",
    "* `random_layout` - positions nodes randomly\n",
    "* `shell_layout` - positions nodes in concentric circles\n",
    "* `spring_layout` - positions nodes using Fruchterman-Reingold force-directed algorithm\n",
    "* `spectral_layout` - positions nodes using the eigenvectors of the graph Laplacian\n",
    "* `planar_layout` - positions nodes without edge crossings\n",
    "and more"
   ],
   "id": "8763afd55b8bd6f6"
  },
  {
   "metadata": {},
   "cell_type": "code",
   "source": [
    "layouts = [\n",
    "    nx.circular_layout,\n",
    "    nx.random_layout,\n",
    "    nx.shell_layout,\n",
    "    nx.spring_layout,\n",
    "    nx.spectral_layout,\n",
    "]\n",
    "for layout in layouts:\n",
    "    fig, ax = plt.subplots()\n",
    "    nx.draw(BA, node_size=100, pos=layout(BA), ax=ax)\n",
    "    ax.set_title(layout.__name__)"
   ],
   "id": "9e2dd4e9b2a72c43",
   "outputs": [],
   "execution_count": null
  },
  {
   "metadata": {},
   "cell_type": "markdown",
   "source": "Let's load a (sort-of) real-world network. The file `grays_anatomy.csv` contains a list of characters from the TV show Grey's Anatomy and the relationships between them. The file is in CSV format, with the first column containing the source node, the second column containing the target node, and the third column containing the weight of the edge.",
   "id": "26a2e6108773f432"
  },
  {
   "metadata": {},
   "cell_type": "code",
   "source": [
    "df_ga = pd.read_csv(\"./data/greys_anatomy.csv\")\n",
    "df_ga"
   ],
   "id": "9d848f8203e5dad0",
   "outputs": [],
   "execution_count": null
  },
  {
   "metadata": {},
   "cell_type": "code",
   "source": [
    "GA = nx.from_pandas_edgelist(df_ga, source=\"from\", target=\"to\")\n",
    "nx.draw(GA, node_size=100, pos=nx.spring_layout(GA), with_labels=True)"
   ],
   "id": "d21242e1918ac1ef",
   "outputs": [],
   "execution_count": null
  },
  {
   "metadata": {},
   "cell_type": "markdown",
   "source": "## Node, edge and graph characteristics",
   "id": "b737cd87028e72a6"
  },
  {
   "metadata": {},
   "cell_type": "markdown",
   "source": [
    "### Node characteristics\n",
    "\n",
    "When analyzing graphs, we have many ways to describe the nodes. The basic ones are:\n",
    "\n",
    "* Degree - the number of edges connected to the node\n",
    "* In-degree - the number of edges coming into the node (for directed graphs)\n",
    "* Out-degree - the number of edges going out of the node (for directed graphs)\n",
    "\n",
    "Later on, we will see more advanced node characteristics, such as centrality measures."
   ],
   "id": "c8cc2e6924757648"
  },
  {
   "metadata": {},
   "cell_type": "code",
   "source": [
    "degrees = pd.Series(dict(GA.degree())).sort_values(ascending=False)\n",
    "degrees"
   ],
   "id": "c0ccc1d6985070ab",
   "outputs": [],
   "execution_count": null
  },
  {
   "metadata": {},
   "cell_type": "markdown",
   "source": "Let's visualize the degree of each node in the Grey's Anatomy network",
   "id": "a8f0d729794616f4"
  },
  {
   "metadata": {},
   "cell_type": "code",
   "source": [
    "nx.draw(\n",
    "    GA,\n",
    "    node_size=[GA.degree(node) * 50 for node in GA.nodes()],\n",
    "    pos=nx.spring_layout(GA),\n",
    "    with_labels=True,\n",
    ")"
   ],
   "id": "e0aeb46a27ac3e0a",
   "outputs": [],
   "execution_count": null
  },
  {
   "metadata": {},
   "cell_type": "markdown",
   "source": "From time to time, we may assign attributes to the nodes. For example, our data contains the gender of each character in the `from_gender` and `to_gender` columns. We can add this information to the graph.",
   "id": "1a51f2bba7bcdabd"
  },
  {
   "metadata": {},
   "cell_type": "code",
   "source": [
    "genders = dict()\n",
    "for _, row in df_ga.iterrows():\n",
    "    genders[row[\"from\"]] = row[\"from_gender\"]\n",
    "    genders[row[\"to\"]] = row[\"to_gender\"]\n",
    "# assign the gender to the nodes\n",
    "nx.set_node_attributes(GA, genders, \"gender\")\n",
    "gender_colors = {\"M\": \"#ADD8E6\", \"F\": \"#FFB6C1\"}  # light blue  # light pink\n",
    "node_colors = [gender_colors[GA.nodes[node][\"gender\"]] for node in GA.nodes()]"
   ],
   "id": "b53d9153e797cc27",
   "outputs": [],
   "execution_count": null
  },
  {
   "metadata": {},
   "cell_type": "code",
   "source": [
    "nx.draw(\n",
    "    GA,\n",
    "    node_size=[GA.degree(node) * 50 for node in GA.nodes()],\n",
    "    node_color=node_colors,\n",
    "    pos=nx.spring_layout(GA),\n",
    "    with_labels=True,\n",
    ")"
   ],
   "id": "db321bd36c31616e",
   "outputs": [],
   "execution_count": null
  },
  {
   "metadata": {},
   "cell_type": "markdown",
   "source": "## Edge attributes",
   "id": "5449a7ec29588af6"
  },
  {
   "metadata": {},
   "cell_type": "markdown",
   "source": [
    "We can also carry attributes on the edges. For example, we can add the weight of the edge to the graph.\n",
    "Later on, we will see more advanced edge characteristics, such as edge betweenness, edge closeness, and edge clustering."
   ],
   "id": "2e9e2d6bc71d8e99"
  },
  {
   "metadata": {},
   "cell_type": "code",
   "source": "GA = nx.from_pandas_edgelist(df_ga, source=\"from\", target=\"to\", edge_attr=[\"seriousness\", 'is_cheat'])",
   "id": "1de1dafccf48b33e",
   "outputs": [],
   "execution_count": null
  },
  {
   "metadata": {},
   "cell_type": "code",
   "source": [
    "cheat_colors = {\n",
    "    'yes': '#FFA07A',  # light salmon\n",
    "    'no': '#98FB98'    # pale green\n",
    "}\n",
    "edge_colors = [cheat_colors[GA.edges[edge][\"is_cheat\"]] for edge in GA.edges()]"
   ],
   "id": "d823ba0702ddda0b",
   "outputs": [],
   "execution_count": null
  },
  {
   "metadata": {},
   "cell_type": "code",
   "source": [
    "fig, ax = plt.subplots(figsize=(10, 10), dpi=100)\n",
    "nx.draw(\n",
    "    GA,\n",
    "    node_size=[GA.degree(node) * 50 for node in GA.nodes()],\n",
    "    node_color=node_colors,\n",
    "    width=[GA.edges[edge][\"seriousness\"] * 0.5 for edge in GA.edges()],\n",
    "    pos = nx.spring_layout(GA),\n",
    "    edge_color=edge_colors,\n",
    "    with_labels=True,\n",
    "    ax=ax\n",
    ")"
   ],
   "id": "f04378d0be39d795",
   "outputs": [],
   "execution_count": null
  },
  {
   "metadata": {},
   "cell_type": "markdown",
   "source": "## Graph characteristics",
   "id": "b3e6578544f03be5"
  },
  {
   "metadata": {},
   "cell_type": "markdown",
   "source": [
    "We saw that we can characterize the nodes and edges of a graph. We can also describe the graph as a whole. Some of the basic graph characteristics are:\n",
    "* Number of nodes\n",
    "* Number of edges\n",
    "* Density - the ratio of the **actual** number of edges to the number of **theoretically** possible edges\n",
    "* Diameter - the longest shortest path between any two nodes (we'll talk about shortest paths later)\n",
    "* Degree distribution - the distribution of the degrees of the nodes in the graph"
   ],
   "id": "4b3404370294329c"
  },
  {
   "metadata": {},
   "cell_type": "code",
   "source": [
    "def graph_summary(G):\n",
    "    ret = dict()\n",
    "    ret[\"Number of nodes\"] = G.number_of_nodes()\n",
    "    ret[\"Number of edges\"] = G.number_of_edges()\n",
    "    ret[\"Density\"] = nx.density(G)\n",
    "    ret[\"Diameter\"] = nx.diameter(G) if nx.is_connected(G) else \"Graph is not connected\"\n",
    "    return ret\n",
    "print(graph_summary(GA))"
   ],
   "id": "6e21f5f6f604393b",
   "outputs": [],
   "execution_count": null
  },
  {
   "metadata": {},
   "cell_type": "code",
   "source": "",
   "id": "d58de168bd65ba05",
   "outputs": [],
   "execution_count": null
  }
 ],
 "metadata": {
  "kernelspec": {
   "display_name": "Python 3 (ipykernel)",
   "language": "python",
   "name": "python3"
  },
  "language_info": {
   "codemirror_mode": {
    "name": "ipython",
    "version": 3
   },
   "file_extension": ".py",
   "mimetype": "text/x-python",
   "name": "python",
   "nbconvert_exporter": "python",
   "pygments_lexer": "ipython3",
   "version": "3.9.19"
  }
 },
 "nbformat": 4,
 "nbformat_minor": 5
}
