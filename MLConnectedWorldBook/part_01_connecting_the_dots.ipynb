{
 "cells": [
  {
   "metadata": {},
   "cell_type": "markdown",
   "source": [
    "# Connecting the Dots\n",
    "\n",
    "This is a placeholder. I will be adding more content here soon (hopefully).\n",
    "\n",
    "But for now, I will just leave you with a few questions to ponder:\n",
    " - What is the relationship between the number of data points and the number of features in a dataset?\n",
    "  "
   ],
   "id": "4db36765be1b5006"
  }
 ],
 "metadata": {
  "kernelspec": {
   "display_name": "Python 3",
   "language": "python",
   "name": "python3"
  },
  "language_info": {
   "codemirror_mode": {
    "name": "ipython",
    "version": 2
   },
   "file_extension": ".py",
   "mimetype": "text/x-python",
   "name": "python",
   "nbconvert_exporter": "python",
   "pygments_lexer": "ipython2",
   "version": "2.7.6"
  }
 },
 "nbformat": 4,
 "nbformat_minor": 5
}
